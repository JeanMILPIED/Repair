{
 "cells": [
  {
   "cell_type": "code",
   "execution_count": 70,
   "metadata": {},
   "outputs": [],
   "source": [
    "import pandas as pd\n",
    "import matplotlib.pyplot as plt\n",
    "import numpy as np\n",
    "import seaborn as sns\n",
    "import datetime as datetime\n",
    "from datetime import timedelta\n",
    "from datetime import datetime\n",
    "import re"
   ]
  },
  {
   "cell_type": "code",
   "execution_count": 250,
   "metadata": {},
   "outputs": [
    {
     "name": "stdout",
     "output_type": "stream",
     "text": [
      "Collecting xgboost\n",
      "  Downloading https://files.pythonhosted.org/packages/5e/49/b95c037b717b4ceadc76b6e164603471225c27052d1611d5a2e832757945/xgboost-0.90-py2.py3-none-win_amd64.whl (18.3MB)\n",
      "Requirement already satisfied: numpy in c:\\users\\jeanm\\anaconda3\\envs\\test\\lib\\site-packages (from xgboost) (1.16.5)\n",
      "Requirement already satisfied: scipy in c:\\users\\jeanm\\anaconda3\\envs\\test\\lib\\site-packages (from xgboost) (1.3.1)\n",
      "Installing collected packages: xgboost\n",
      "Successfully installed xgboost-0.90\n"
     ]
    }
   ],
   "source": [
    "!pip install xgboost"
   ]
  },
  {
   "cell_type": "code",
   "execution_count": 71,
   "metadata": {},
   "outputs": [],
   "source": [
    "data_repair_tot=pd.read_csv(r\"C:\\Users\\jeanm\\Anaconda3\\envs\\test\\books\\OpenRepair\\ORDS_trp-fc-a.csv\")"
   ]
  },
  {
   "cell_type": "code",
   "execution_count": 72,
   "metadata": {},
   "outputs": [
    {
     "data": {
      "text/plain": [
       "(15914, 12)"
      ]
     },
     "execution_count": 72,
     "metadata": {},
     "output_type": "execute_result"
    }
   ],
   "source": [
    "data_repair_tot.shape"
   ]
  },
  {
   "cell_type": "code",
   "execution_count": 73,
   "metadata": {
    "scrolled": false
   },
   "outputs": [
    {
     "data": {
      "text/plain": [
       "Index(['id', 'data_provider', 'country', 'language', 'product_category',\n",
       "       'brand', 'model', 'year_of_manufacture', 'repair_status',\n",
       "       'group_identifier', 'date', 'problem'],\n",
       "      dtype='object')"
      ]
     },
     "execution_count": 73,
     "metadata": {},
     "output_type": "execute_result"
    }
   ],
   "source": [
    "data_repair_tot.columns\n"
   ]
  },
  {
   "cell_type": "markdown",
   "metadata": {},
   "source": [
    "- 15914 observations\n",
    "- 12 columns: ID, data_provider, country, language, product_category, brand, model, year_of_manufacture, repair_status, group_identifier, date, problem"
   ]
  },
  {
   "cell_type": "code",
   "execution_count": 74,
   "metadata": {},
   "outputs": [
    {
     "data": {
      "text/plain": [
       "id                        0\n",
       "data_provider             0\n",
       "country                   0\n",
       "language                  0\n",
       "product_category          0\n",
       "brand                     4\n",
       "model                    10\n",
       "year_of_manufacture       0\n",
       "repair_status             0\n",
       "group_identifier          0\n",
       "date                      0\n",
       "problem                2643\n",
       "dtype: int64"
      ]
     },
     "execution_count": 74,
     "metadata": {},
     "output_type": "execute_result"
    }
   ],
   "source": [
    "data_repair_tot.isnull().sum()"
   ]
  },
  {
   "cell_type": "markdown",
   "metadata": {},
   "source": [
    "4 missing values of \"brand\" (=> we remove these lines), 10 missing values of \"model\" (=> we remove these lines after deeper analysis?), 2643 missing values of \"problem\""
   ]
  },
  {
   "cell_type": "markdown",
   "metadata": {},
   "source": [
    "1. DATA ENGINEERING AND EXPLORATION\n",
    "    - ID"
   ]
  },
  {
   "cell_type": "code",
   "execution_count": 75,
   "metadata": {
    "scrolled": false
   },
   "outputs": [
    {
     "data": {
      "text/plain": [
       "id\n",
       "anstiftung_1       1\n",
       "anstiftung_10      1\n",
       "anstiftung_100     1\n",
       "anstiftung_1000    1\n",
       "anstiftung_1001    1\n",
       "                  ..\n",
       "restart_9995       1\n",
       "restart_9996       1\n",
       "restart_9997       1\n",
       "restart_9998       1\n",
       "restart_9999       1\n",
       "Name: country, Length: 15914, dtype: int64"
      ]
     },
     "execution_count": 75,
     "metadata": {},
     "output_type": "execute_result"
    }
   ],
   "source": [
    "data_repair_tot.groupby(by='id').count().country"
   ]
  },
  {
   "cell_type": "markdown",
   "metadata": {},
   "source": [
    "id is unique for evey row"
   ]
  },
  {
   "cell_type": "code",
   "execution_count": 76,
   "metadata": {
    "scrolled": true
   },
   "outputs": [
    {
     "data": {
      "text/plain": [
       "data_provider\n",
       "Anstiftung             18.461732\n",
       "Fixit Clinic            2.155335\n",
       "The Restart Project    79.382933\n",
       "Name: id, dtype: float64"
      ]
     },
     "execution_count": 76,
     "metadata": {},
     "output_type": "execute_result"
    }
   ],
   "source": [
    "data_repair_tot.groupby(by='data_provider').count().id/data_repair_tot.shape[0]*100"
   ]
  },
  {
   "cell_type": "markdown",
   "metadata": {},
   "source": [
    "on the 15914 observations, 79% come from \"The Restart Project\", 18% from \"Anstiftung\", 2% from \"Fixit Clinic\""
   ]
  },
  {
   "cell_type": "code",
   "execution_count": 77,
   "metadata": {
    "scrolled": true
   },
   "outputs": [
    {
     "name": "stdout",
     "output_type": "stream",
     "text": [
      "country\n",
      "GBR    7540\n",
      "DEU    2949\n",
      "ITA    1182\n",
      "USA     791\n",
      "CAN     738\n",
      "BEL     660\n",
      "ARG     630\n",
      "NOR     570\n",
      "SWE     245\n",
      "ESP     183\n",
      "HKG     122\n",
      "IRL     114\n",
      "TUN      98\n",
      "ISL      91\n",
      "CHE       1\n",
      "Name: id, dtype: int64\n",
      "(15,)\n",
      "73.33794143521428\n"
     ]
    }
   ],
   "source": [
    "data_country=data_repair_tot.groupby(by='country').count().sort_values(['id'], ascending=False).id\n",
    "print(data_country)\n",
    "print(data_country.shape)\n",
    "print(data_country.iloc[0:3].sum()/data_country.sum()*100)"
   ]
  },
  {
   "cell_type": "markdown",
   "metadata": {},
   "source": [
    "- 15 countries participated so far to the project\n",
    "- countries are represented by 3 capital letters (like GBR for Great Britain, CAN for Canada)\n",
    "- the 3 main contributers are: GBR, DEU, ITA and they represent 73% of the observations\n",
    "- FRANCE is not listed. Why?"
   ]
  },
  {
   "cell_type": "code",
   "execution_count": 78,
   "metadata": {},
   "outputs": [
    {
     "name": "stdout",
     "output_type": "stream",
     "text": [
      "language\n",
      "English    12976\n",
      "German      2938\n",
      "Name: id, dtype: int64\n",
      "(2,)\n"
     ]
    }
   ],
   "source": [
    "data_language=data_repair_tot.groupby(by='language').count().sort_values(['id'], ascending=False).id\n",
    "print(data_language)\n",
    "print(data_language.shape)"
   ]
  },
  {
   "cell_type": "markdown",
   "metadata": {},
   "source": [
    "- Observations are either in English or in German"
   ]
  },
  {
   "cell_type": "code",
   "execution_count": 79,
   "metadata": {
    "scrolled": true
   },
   "outputs": [
    {
     "name": "stdout",
     "output_type": "stream",
     "text": [
      "product_category\n",
      "Laptop                               2135\n",
      "Misc                                 1619\n",
      "Small kitchen item                   1561\n",
      "Mobile                               1359\n",
      "Lamp                                  878\n",
      "Hi-Fi separates                       872\n",
      "Portable radio                        766\n",
      "Tablet                                531\n",
      "Vacuum                                517\n",
      "TV and gaming-related accessories     445\n",
      "Hair & Beauty item                    430\n",
      "Power tool                            419\n",
      "Headphones                            374\n",
      "Toy                                   368\n",
      "Toaster                               345\n",
      "Hi-Fi integrated                      329\n",
      "PC Accessory                          308\n",
      "Printer/scanner                       295\n",
      "Kettle                                275\n",
      "Handheld entertainment device         274\n",
      "Desktop computer                      250\n",
      "Small home electrical                 232\n",
      "Flat screen                           214\n",
      "Decorative or safety lights           170\n",
      "Digital Compact Camera                154\n",
      "Fan                                   138\n",
      "DLSR / Video Camera                   116\n",
      "Musical instrument                    105\n",
      "Sewing machine                         90\n",
      "Watch/clock                            76\n",
      "Paper shredder                         68\n",
      "Aircon/Dehumidifier                    67\n",
      "Large home electrical                  66\n",
      "Projector                              42\n",
      "Battery/charger/adapter                26\n",
      "Name: id, dtype: int64\n",
      "(35,)\n",
      "47.4550710066608\n"
     ]
    }
   ],
   "source": [
    "data_product=data_repair_tot.groupby(by='product_category').count().sort_values(['id'], ascending=False).id\n",
    "print(data_product)\n",
    "print(data_product.shape)\n",
    "print(data_product.iloc[0:5].sum()/data_product.sum()*100)"
   ]
  },
  {
   "cell_type": "markdown",
   "metadata": {},
   "source": [
    "- 35 product categories are considered and listed\n",
    "- #1 is laptop\n",
    "- #2 is Misc (which needs to be explored)\n",
    "- #3 is small kitchen item (which is pretty vague)\n",
    "- #4 is Mobile\n",
    "- these 4 represent 47% of the 15914 observations"
   ]
  },
  {
   "cell_type": "code",
   "execution_count": 80,
   "metadata": {
    "scrolled": false
   },
   "outputs": [
    {
     "name": "stdout",
     "output_type": "stream",
     "text": [
      "brand\n",
      "UNKNOWN    8887\n",
      "APPLE      1145\n",
      "SAMSUNG     386\n",
      "SONY        332\n",
      "HP          244\n",
      "           ... \n",
      "JCB           1\n",
      "JOJO          1\n",
      "JOLLA         1\n",
      "JONES         1\n",
      "ZYLISS        1\n",
      "Name: id, Length: 1143, dtype: int64\n",
      "(1143,)\n",
      "brand\n",
      "APPLE      7.194923\n",
      "SAMSUNG    2.425537\n",
      "SONY       2.086213\n",
      "HP         1.533241\n",
      "PHILIPS    1.263039\n",
      "ASUS       0.810607\n",
      "ACER       0.810607\n",
      "DELL       0.798039\n",
      "TOSHIBA    0.766621\n",
      "BOSCH      0.728918\n",
      "Name: id, dtype: float64\n"
     ]
    }
   ],
   "source": [
    "# we uppercase all the brand data before sorting\n",
    "data_repair_tot.brand=[i.upper() if type(i)==str else i for i in data_repair_tot.brand]\n",
    "data_brand=data_repair_tot.groupby(by='brand').count().sort_values(['id'], ascending=False).id\n",
    "print(data_brand)\n",
    "print(data_brand.shape)\n",
    "print(data_brand.iloc[1:11]/data_product.sum()*100)"
   ]
  },
  {
   "cell_type": "markdown",
   "metadata": {},
   "source": [
    "- the number of brands considered is gigantic: 1144\n",
    "- more than 50% of the observations have no brand associated to it (\"unknown\")\n",
    "- the first 10 brands listed is: Apple(7.2%) / Samsung(2.5%) / Sony(2%) / HP(1.5%) / Philips(1.25%) / Acer(0.8%) / Dell(0.8%) / Toshiba(0.75%) / Bosch(0.7%) / Kenwood (0.65%)\n",
    "- considering the product distribution in the database, it is not a surprise to see the major laptop and mobile suppliers in the top10list"
   ]
  },
  {
   "cell_type": "code",
   "execution_count": 81,
   "metadata": {},
   "outputs": [
    {
     "name": "stdout",
     "output_type": "stream",
     "text": [
      "model\n",
      "Unknown                     11497\n",
      "iPhone 6                      103\n",
      "Macbook Pro 2012               75\n",
      "iPhone 6s                      50\n",
      "Macbook                        43\n",
      "                            ...  \n",
      "Gelatiera                       1\n",
      "Generic alarmclock              1\n",
      "GibiGiana di Castiglioni        1\n",
      "Glasse                          1\n",
      "zg7                             1\n",
      "Name: id, Length: 2899, dtype: int64\n",
      "(2899,)\n",
      "unknown is  72.24456453437224\n",
      "model\n",
      "iPhone 6            0.647229\n",
      "Macbook Pro 2012    0.471283\n",
      "iPhone 6s           0.314189\n",
      "Macbook             0.270202\n",
      "iPhone              0.263919\n",
      "iPad                0.245067\n",
      "iPhone 5            0.232500\n",
      "MacBook Pro         0.213648\n",
      "iPhone 5s           0.207365\n",
      "Vaio                0.157094\n",
      "Name: id, dtype: float64\n"
     ]
    }
   ],
   "source": [
    "data_model=data_repair_tot.groupby(by='model').count().sort_values(['id'], ascending=False).id\n",
    "print(data_model)\n",
    "print(data_model.shape)\n",
    "print(\"unknown is \", data_model[0]/data_repair_tot.shape[0]*100)\n",
    "print(data_model[1:11]/data_repair_tot.shape[0]*100)"
   ]
  },
  {
   "cell_type": "markdown",
   "metadata": {},
   "source": [
    "- 72% of the observations are unknown models\n",
    "- the first rated 10 models are almost all Apple: iPhone6 /MacbookPro2012 /iPhone6s /Macbook /iPhone /iPad /iPhone5 /MacBookPro /iPhone5s\n"
   ]
  },
  {
   "cell_type": "code",
   "execution_count": 82,
   "metadata": {
    "scrolled": false
   },
   "outputs": [
    {
     "name": "stdout",
     "output_type": "stream",
     "text": [
      "(52,)\n",
      "unknown is  16.475409836065573\n",
      "count                    1220\n",
      "unique                     52\n",
      "top       2014-01-01 00:00:00\n",
      "freq                      201\n",
      "first     1929-01-01 00:00:00\n",
      "last      2019-01-01 00:00:00\n",
      "Name: year_of_manufacture, dtype: object\n"
     ]
    },
    {
     "data": {
      "text/plain": [
       "Text(0.5, 0, 'year of manufacturing of product')"
      ]
     },
     "execution_count": 82,
     "metadata": {},
     "output_type": "execute_result"
    },
    {
     "data": {
      "image/png": "[encoded data removed]",
      "text/plain": [
       "<Figure size 432x288 with 1 Axes>"
      ]
     },
     "metadata": {
      "needs_background": "light"
     },
     "output_type": "display_data"
    }
   ],
   "source": [
    "data_repair_tot=data_repair_tot.replace([\"NA\",\"????\",\" SLA-TL10\",\" no model number\"],np.nan)\n",
    "data_yearM=data_repair_tot.groupby(by='year_of_manufacture').count().sort_values(['id'], ascending=False).id\n",
    "data_repair_tot.year_of_manufacture=[pd.to_datetime(i,format='%Y') for i in data_repair_tot.year_of_manufacture]\n",
    "print(data_yearM.shape)\n",
    "print(\"unknown is \",data_yearM[0]/data_yearM.sum()*100)\n",
    "data_yearM=data_yearM.sort_index()\n",
    "data_repair_tot.year_of_manufacture\n",
    "print(data_repair_tot.year_of_manufacture.describe())\n",
    "data_repair_tot.year_of_manufacture.hist(bins='auto')\n",
    "plt.xlabel(\"year of manufacturing of product\")"
   ]
  },
  {
   "cell_type": "markdown",
   "metadata": {},
   "source": [
    "- the date of manufacture of the product is unknown for 92% of the observations (it is formated as \"????\")\n",
    "- the date of manufacture format is a 4 digits year YYYY\n",
    "- we clean this by replacing all other dates that are not years by \"none\"\n",
    "- the oldest product observation is 1929???\n",
    "- the distribution of years of manufacture of all observations is between 2011 and 2017"
   ]
  },
  {
   "cell_type": "code",
   "execution_count": 83,
   "metadata": {
    "scrolled": true
   },
   "outputs": [
    {
     "name": "stdout",
     "output_type": "stream",
     "text": [
      "(5,)\n",
      "repair_status\n",
      "Fixed          52.416263\n",
      "Repairable     27.216741\n",
      "End of life    16.301137\n",
      "Unknown         4.059574\n",
      "2019            0.006284\n",
      "Name: id, dtype: float64\n"
     ]
    }
   ],
   "source": [
    "data_repairS=data_repair_tot.groupby(by='repair_status').count().sort_values(['id'], ascending=False).id\n",
    "print(data_repairS.shape)\n",
    "print(data_repairS/data_repairS.sum()*100)"
   ]
  },
  {
   "cell_type": "markdown",
   "metadata": {},
   "source": [
    "- 52% of the observations have been repaired (=\"Fixed\")\n",
    "- 27% of the observations have been stated as \"Repairable\"\n",
    "- 16% of the observations have been considered \"End Of Life\"\n",
    "- the 4% rest is unknown"
   ]
  },
  {
   "cell_type": "code",
   "execution_count": 84,
   "metadata": {
    "scrolled": false
   },
   "outputs": [
    {
     "name": "stdout",
     "output_type": "stream",
     "text": [
      "date\n",
      "2019-06-10    315\n",
      "2019-06-09    180\n",
      "2017-01-28    167\n",
      "2019-06-08    151\n",
      "2019-06-06    144\n",
      "             ... \n",
      "2013-04-06      1\n",
      "2013-04-25      1\n",
      "2018-04-26      1\n",
      "2013-04-27      1\n",
      "2018-05-30      1\n",
      "Name: id, Length: 671, dtype: int64\n",
      "1900-01-01 00:00:00\n"
     ]
    }
   ],
   "source": [
    "data_repair_tot.date=data_repair_tot.date.replace([\"REMAKE\",\"Fixit Clinic\"],\"1900-01-01\")\n",
    "data_repair_tot.date=[datetime.strptime(i,'%Y-%m-%d') for i in data_repair_tot.date]\n",
    "data_date=data_repair_tot.groupby(by='date').count().sort_values(['id'], ascending=False).id\n",
    "print(data_date)\n",
    "print(data_repair_tot.date.min())"
   ]
  },
  {
   "cell_type": "markdown",
   "metadata": {},
   "source": [
    "- let's reformat the date column to a datetime format after removing the bad format column\n",
    "- done"
   ]
  },
  {
   "cell_type": "code",
   "execution_count": 133,
   "metadata": {
    "scrolled": false
   },
   "outputs": [
    {
     "name": "stdout",
     "output_type": "stream",
     "text": [
      "id                             object\n",
      "data_provider                  object\n",
      "country                        object\n",
      "language                       object\n",
      "product_category               object\n",
      "brand                          object\n",
      "model                          object\n",
      "year_of_manufacture    datetime64[ns]\n",
      "repair_status                  object\n",
      "group_identifier               object\n",
      "date                   datetime64[ns]\n",
      "problem                        object\n",
      "my_problem                     object\n",
      "dtype: object\n"
     ]
    },
    {
     "data": {
      "text/plain": [
       "NAN                                                                   2643\n",
       "NOT WORKING                                                            120\n",
       " KG                                                                    107\n",
       "BROKEN SCREEN                                                           80\n",
       "SSD                                                                     70\n",
       "CRACKED SCREEN                                                          58\n",
       "BLENDER KG                                                              37\n",
       "BLENDER                                                                 36\n",
       "SCREEN REPLACEMENT                                                      35\n",
       "IRON                                                                    28\n",
       "NO POWER                                                                27\n",
       "SLOW                                                                    27\n",
       "LIKE ALL DATA IN Y THIS DATA IS AN ESTIMATE BASED ON PARTICIPATION      26\n",
       "EXACT WEIGHT KG                                                         23\n",
       "SCREEN REPAIR                                                           21\n",
       "REPLACED CRACKED LCD                                                    20\n",
       "CRACKED DIGITISER                                                       19\n",
       "DOESN T WORK                                                            18\n",
       "RUNNING SLOW                                                            18\n",
       "WON T TURN ON                                                           18\n",
       "BATTERY                                                                 17\n",
       "NEEDS NEW BATTERY                                                       16\n",
       "SCREEN BROKEN                                                           16\n",
       "ADDED RAM                                                               15\n",
       "LOOSE CONNECTION                                                        14\n",
       "SPEAKERS KG                                                             13\n",
       "NOT TURNING ON                                                          13\n",
       "ALARM CLOCK                                                             13\n",
       "STOPPED WORKING                                                         12\n",
       "NOT CHARGING                                                            11\n",
       "DOESN T TURN ON                                                         11\n",
       "DOESN T CHARGE                                                          11\n",
       "LAPTOP NO POWER                                                         11\n",
       "CHARGER                                                                 11\n",
       "DVD PLAYER KG                                                           10\n",
       "WERKT NIET                                                              10\n",
       "CRACKED LCD REPLACED                                                    10\n",
       "NOT WORKING                                                             10\n",
       "NO SOUND                                                                10\n",
       "DOES NOT TURN ON                                                        10\n",
       "SPEAKERS                                                                10\n",
       "DEAD                                                                    10\n",
       "DOESN T SWITCH ON                                                        9\n",
       "LAPTOP WON T BOOT                                                        9\n",
       "                                                                         9\n",
       "DVD PLAYER                                                               9\n",
       "VERY SLOW                                                                9\n",
       "LAPTOP RUNNING SLOW                                                      9\n",
       "CD PLAYER NOT WORKING                                                    9\n",
       "DOES NOT START                                                           9\n",
       "Name: my_problem, dtype: int64"
      ]
     },
     "execution_count": 133,
     "metadata": {},
     "output_type": "execute_result"
    }
   ],
   "source": [
    "print(data_repair_tot.dtypes)\n",
    "my_pattern=re.compile('[^A-Za-z]+')\n",
    "data_repair_tot.loc[:,\"my_problem\"]=data_repair_tot.loc[:,\"problem\"].astype(str)\n",
    "data_repair_tot.loc[:,\"my_problem\"]=[my_pattern.sub(' ',my_text) for my_text in data_repair_tot.loc[:,\"my_problem\"]]\n",
    "data_repair_tot.loc[:,\"my_problem\"]=data_repair_tot.loc[:,\"my_problem\"].str.upper()\n",
    "data_repair_tot.loc[:,\"my_problem\"].value_counts()\n",
    "\n",
    "#exploration of the \"problem\" column\n",
    "#data_problem=data_repair_tot.groupby(by='problem').count().sort_values(['id'], ascending=False).id\n",
    "#print(data_problem.shape)\n",
    "#first we ignore the german language problems (2938 observations)\n",
    "# second we explore the same for German problem id\n",
    "#note that there are 2943 values that have not been completed\n",
    "data_problem_english= data_repair_tot[data_repair_tot.language ==\"English\"]\n",
    "\n",
    "#data_problem_explo[0:50]\n",
    "#there are 8689 unique ENglish problems: we would like to bring them to max 10 categories\n",
    "data_problem_english.loc[:,\"my_problem\"].value_counts().head(50)"
   ]
  },
  {
   "cell_type": "code",
   "execution_count": 134,
   "metadata": {
    "scrolled": true
   },
   "outputs": [],
   "source": [
    "\n",
    "#lets' consider first some key words: \"battery\", \"SSD\", \"screen\", \"cable\", \"slow\", \"RAM\", \"power\", \"charge\", \"connect\", \"LCD\", \"turn on\"\n",
    "#data_problem\n",
    "problem_list_english =[\"WORK\",\"STOP\",\"BATT\", \"SSD\", \"SCREEN\", \"CABL\", \"SLOW\", \"RAM\", \"POWER\", \"CHARG\", \"CONNECT\", \"LCD\", \"TURN\", \"SOFT\", \"BOOT\", \"SOUND\", \"WATER\",\"START\", \"MECH\", \"HEAT\",\"SOLDER\",\"HUMID\",\"LIGHT\",'SWITCH']\n",
    "for j in range(data_problem_english.shape[0]):\n",
    "    for i in range(len(problem_list)):\n",
    "        if type(data_problem_english.iloc[j,data_problem_english.columns.get_loc(\"my_problem\")]) is str:\n",
    "            if problem_list_english[i] in data_problem_english.iloc[j,data_problem_english.columns.get_loc(\"my_problem\")]:\n",
    "                data_problem_english.loc[j,\"problem_id\"]=problem_list_english[i]\n",
    "                break \n",
    "            else:\n",
    "                data_problem_english.loc[j,\"problem_id\"]=\"OTHER\"\n",
    "        else:\n",
    "            data_problem_english.loc[j,\"problem_id\"]=\"NOT MANAGED\"\n",
    "            break\n",
    "#data_problem.columns[-1]=\"problem_id\""
   ]
  },
  {
   "cell_type": "code",
   "execution_count": 135,
   "metadata": {
    "scrolled": true
   },
   "outputs": [
    {
     "name": "stdout",
     "output_type": "stream",
     "text": [
      "problem_id\n",
      "OTHER      7087\n",
      "WORK       1537\n",
      "SCREEN      603\n",
      "POWER       546\n",
      "BATT        463\n",
      "TURN        311\n",
      "SWITCH      246\n",
      "CHARG       232\n",
      "CONNECT     232\n",
      "CABL        222\n",
      "SLOW        218\n",
      "HEAT        177\n",
      "SOUND       163\n",
      "LIGHT       104\n",
      "BOOT        103\n",
      "START       100\n",
      "MECH         94\n",
      "SOFT         94\n",
      "SSD          92\n",
      "SOLDER       90\n",
      "WATER        89\n",
      "LCD          63\n",
      "RAM          53\n",
      "STOP         50\n",
      "HUMID         7\n",
      "Name: id, dtype: int64\n",
      "0\n"
     ]
    }
   ],
   "source": [
    "print(data_problem_english.groupby(by=\"problem_id\").count().id.sort_values(ascending=False))\n",
    "print(data_problem_english.problem_id.isnull().sum())"
   ]
  },
  {
   "cell_type": "markdown",
   "metadata": {},
   "source": [
    "- the \"problem\" column is a unique comment line about the observation\n",
    "- a deeper NLP activity on this column helps toE provide insights on purpose in future"
   ]
  },
  {
   "cell_type": "code",
   "execution_count": 126,
   "metadata": {},
   "outputs": [
    {
     "data": {
      "text/plain": [
       "DEFEKT                74\n",
       "                      40\n",
       "KABELBRUCH            26\n",
       "OHNE FUNKTION         17\n",
       "WACKELKONTAKT         15\n",
       "N A                   15\n",
       "FUNKTIONIERT NICHT    14\n",
       "SCHALTER DEFEKT       12\n",
       "L UFT NICHT           11\n",
       "GEHT NICHT            11\n",
       "SCHALTER KAPUTT       10\n",
       "KEINE FUNKTION         9\n",
       "GEHT NICHT MEHR AN     8\n",
       "KAPUTT                 7\n",
       "KEIN STROM             7\n",
       "KABEL DEFEKT           7\n",
       "AKKU DEFEKT            5\n",
       "HEIZT NICHT            4\n",
       "GEHT NICHT AN          4\n",
       "LADEBUCHSE KAPUTT      4\n",
       "Name: my_problem, dtype: int64"
      ]
     },
     "execution_count": 126,
     "metadata": {},
     "output_type": "execute_result"
    }
   ],
   "source": [
    "# exploration of the german problem id\n",
    "data_problem_german= data_repair_tot[data_repair_tot.language ==\"German\"]\n",
    "data_problem_german.loc[:,\"my_problem\"].value_counts()[0:20]"
   ]
  },
  {
   "cell_type": "code",
   "execution_count": 316,
   "metadata": {},
   "outputs": [
    {
     "name": "stderr",
     "output_type": "stream",
     "text": [
      "C:\\Users\\jeanm\\Anaconda3\\envs\\test\\lib\\site-packages\\ipykernel_launcher.py:7: SettingWithCopyWarning: \n",
      "A value is trying to be set on a copy of a slice from a DataFrame.\n",
      "Try using .loc[row_indexer,col_indexer] = value instead\n",
      "\n",
      "See the caveats in the documentation: http://pandas.pydata.org/pandas-docs/stable/user_guide/indexing.html#returning-a-view-versus-a-copy\n",
      "  import sys\n",
      "C:\\Users\\jeanm\\Anaconda3\\envs\\test\\lib\\site-packages\\pandas\\core\\indexing.py:494: SettingWithCopyWarning: \n",
      "A value is trying to be set on a copy of a slice from a DataFrame.\n",
      "Try using .loc[row_indexer,col_indexer] = value instead\n",
      "\n",
      "See the caveats in the documentation: http://pandas.pydata.org/pandas-docs/stable/user_guide/indexing.html#returning-a-view-versus-a-copy\n",
      "  self.obj[item] = s\n"
     ]
    }
   ],
   "source": [
    "#lets' consider first some key words: \"battery\", \"SSD\", \"screen\", \"cable\", \"slow\", \"RAM\", \"power\", \"charge\", \"connect\", \"LCD\", \"turn on\"\n",
    "#data_problem\n",
    "problem_list_german=[\"DEFEKT\",\"SCHALTER\",\"KONTAKT\",\"FUNKT\",\"KABELBRUCH\",\"NICHT\",\"KAPUT\",\"AKKU\",\"STROM\"]\n",
    "problem_list_german_trslated=[]\n",
    "i=0\n",
    "j=0\n",
    "data_problem_german[\"problem_id\"]=np.zeros(data_problem_german.shape[0])\n",
    "for j in range(data_problem_german.shape[0]):\n",
    "    for i in range(len(problem_list_german)):\n",
    "        if type(data_problem_german.iloc[j,data_problem_german.columns.get_loc(\"my_problem\")]) is str:\n",
    "            if problem_list_german[i] in data_problem_german.iloc[j,data_problem_german.columns.get_loc(\"my_problem\")]:\n",
    "                data_problem_german.iloc[j,data_problem_german.columns.get_loc(\"problem_id\")]=problem_list_german[i]\n",
    "                break \n",
    "            else:\n",
    "                data_problem_german.iloc[j,data_problem_german.columns.get_loc(\"problem_id\")]=\"OTHER\"\n",
    "        else:\n",
    "            data_problem_german.iloc[j,data_problem_german.columns.get_loc(\"problem_id\")]=\"NOT MANAGED\"\n",
    "            break"
   ]
  },
  {
   "cell_type": "code",
   "execution_count": 317,
   "metadata": {
    "scrolled": false
   },
   "outputs": [
    {
     "name": "stdout",
     "output_type": "stream",
     "text": [
      "problem_id\n",
      "OTHER         814\n",
      "NICHT         615\n",
      "DEFEKT        579\n",
      "FUNKT         355\n",
      "KONTAKT       196\n",
      "SCHALTER      170\n",
      "KABELBRUCH     77\n",
      "KAPUT          73\n",
      "AKKU           34\n",
      "STROM          25\n",
      "Name: id, dtype: int64\n",
      "0\n"
     ]
    }
   ],
   "source": [
    "data_problem_german.head(50)\n",
    "print(data_problem_german.groupby(by=\"problem_id\").count().id.sort_values(ascending=False))\n",
    "print(data_problem_german.problem_id.isnull().sum())"
   ]
  },
  {
   "cell_type": "code",
   "execution_count": 318,
   "metadata": {
    "scrolled": true
   },
   "outputs": [],
   "source": [
    "# we can join the 2 data_problem matrices in a sole matrix\n",
    "data_problem=data_problem_english.append(data_problem_german)"
   ]
  },
  {
   "cell_type": "code",
   "execution_count": 319,
   "metadata": {},
   "outputs": [
    {
     "name": "stdout",
     "output_type": "stream",
     "text": [
      "(15914, 14)\n"
     ]
    },
    {
     "data": {
      "text/html": [
       "<div>\n",
       "<style scoped>\n",
       "    .dataframe tbody tr th:only-of-type {\n",
       "        vertical-align: middle;\n",
       "    }\n",
       "\n",
       "    .dataframe tbody tr th {\n",
       "        vertical-align: top;\n",
       "    }\n",
       "\n",
       "    .dataframe thead th {\n",
       "        text-align: right;\n",
       "    }\n",
       "</style>\n",
       "<table border=\"1\" class=\"dataframe\">\n",
       "  <thead>\n",
       "    <tr style=\"text-align: right;\">\n",
       "      <th></th>\n",
       "      <th>id</th>\n",
       "      <th>data_provider</th>\n",
       "      <th>country</th>\n",
       "      <th>language</th>\n",
       "      <th>product_category</th>\n",
       "      <th>brand</th>\n",
       "      <th>model</th>\n",
       "      <th>year_of_manufacture</th>\n",
       "      <th>repair_status</th>\n",
       "      <th>group_identifier</th>\n",
       "      <th>date</th>\n",
       "      <th>problem</th>\n",
       "      <th>my_problem</th>\n",
       "      <th>problem_id</th>\n",
       "    </tr>\n",
       "  </thead>\n",
       "  <tbody>\n",
       "    <tr>\n",
       "      <td>0</td>\n",
       "      <td>restart_757</td>\n",
       "      <td>The Restart Project</td>\n",
       "      <td>GBR</td>\n",
       "      <td>English</td>\n",
       "      <td>Laptop</td>\n",
       "      <td>TOSHIBA</td>\n",
       "      <td>Unknown</td>\n",
       "      <td>NaT</td>\n",
       "      <td>Repairable</td>\n",
       "      <td>Restart HQ</td>\n",
       "      <td>2013-06-19</td>\n",
       "      <td>Laptop - Won't boot -</td>\n",
       "      <td>LAPTOP WON T BOOT</td>\n",
       "      <td>BOOT</td>\n",
       "    </tr>\n",
       "    <tr>\n",
       "      <td>1</td>\n",
       "      <td>restart_758</td>\n",
       "      <td>The Restart Project</td>\n",
       "      <td>GBR</td>\n",
       "      <td>English</td>\n",
       "      <td>Hi-Fi separates</td>\n",
       "      <td>UNKNOWN</td>\n",
       "      <td>Unknown</td>\n",
       "      <td>NaT</td>\n",
       "      <td>Fixed</td>\n",
       "      <td>Restart HQ</td>\n",
       "      <td>2013-06-19</td>\n",
       "      <td>Radio - Buzzing, cutting out -</td>\n",
       "      <td>RADIO BUZZING CUTTING OUT</td>\n",
       "      <td>OTHER</td>\n",
       "    </tr>\n",
       "    <tr>\n",
       "      <td>2</td>\n",
       "      <td>restart_759</td>\n",
       "      <td>The Restart Project</td>\n",
       "      <td>GBR</td>\n",
       "      <td>English</td>\n",
       "      <td>Hi-Fi separates</td>\n",
       "      <td>UNKNOWN</td>\n",
       "      <td>Unknown</td>\n",
       "      <td>NaT</td>\n",
       "      <td>Fixed</td>\n",
       "      <td>Restart HQ</td>\n",
       "      <td>2013-06-19</td>\n",
       "      <td>CD player - No sound -</td>\n",
       "      <td>CD PLAYER NO SOUND</td>\n",
       "      <td>SOUND</td>\n",
       "    </tr>\n",
       "    <tr>\n",
       "      <td>3</td>\n",
       "      <td>restart_760</td>\n",
       "      <td>The Restart Project</td>\n",
       "      <td>GBR</td>\n",
       "      <td>English</td>\n",
       "      <td>TV and gaming-related accessories</td>\n",
       "      <td>UNKNOWN</td>\n",
       "      <td>Unknown</td>\n",
       "      <td>NaT</td>\n",
       "      <td>End of life</td>\n",
       "      <td>Restart HQ</td>\n",
       "      <td>2013-06-19</td>\n",
       "      <td>DVD player - No sound -</td>\n",
       "      <td>DVD PLAYER NO SOUND</td>\n",
       "      <td>SOUND</td>\n",
       "    </tr>\n",
       "    <tr>\n",
       "      <td>4</td>\n",
       "      <td>restart_761</td>\n",
       "      <td>The Restart Project</td>\n",
       "      <td>GBR</td>\n",
       "      <td>English</td>\n",
       "      <td>Handheld entertainment device</td>\n",
       "      <td>APPLE</td>\n",
       "      <td>Unknown</td>\n",
       "      <td>NaT</td>\n",
       "      <td>Fixed</td>\n",
       "      <td>Restart HQ</td>\n",
       "      <td>2013-06-19</td>\n",
       "      <td>Mp3 player - No power -</td>\n",
       "      <td>MP PLAYER NO POWER</td>\n",
       "      <td>POWER</td>\n",
       "    </tr>\n",
       "  </tbody>\n",
       "</table>\n",
       "</div>"
      ],
      "text/plain": [
       "            id        data_provider country language  \\\n",
       "0  restart_757  The Restart Project     GBR  English   \n",
       "1  restart_758  The Restart Project     GBR  English   \n",
       "2  restart_759  The Restart Project     GBR  English   \n",
       "3  restart_760  The Restart Project     GBR  English   \n",
       "4  restart_761  The Restart Project     GBR  English   \n",
       "\n",
       "                    product_category    brand    model year_of_manufacture  \\\n",
       "0                             Laptop  TOSHIBA  Unknown                 NaT   \n",
       "1                    Hi-Fi separates  UNKNOWN  Unknown                 NaT   \n",
       "2                    Hi-Fi separates  UNKNOWN  Unknown                 NaT   \n",
       "3  TV and gaming-related accessories  UNKNOWN  Unknown                 NaT   \n",
       "4      Handheld entertainment device    APPLE  Unknown                 NaT   \n",
       "\n",
       "  repair_status group_identifier       date                         problem  \\\n",
       "0    Repairable       Restart HQ 2013-06-19           Laptop - Won't boot -   \n",
       "1         Fixed       Restart HQ 2013-06-19  Radio - Buzzing, cutting out -   \n",
       "2         Fixed       Restart HQ 2013-06-19          CD player - No sound -   \n",
       "3   End of life       Restart HQ 2013-06-19         DVD player - No sound -   \n",
       "4         Fixed       Restart HQ 2013-06-19         Mp3 player - No power -   \n",
       "\n",
       "                   my_problem problem_id  \n",
       "0          LAPTOP WON T BOOT        BOOT  \n",
       "1  RADIO BUZZING CUTTING OUT       OTHER  \n",
       "2         CD PLAYER NO SOUND       SOUND  \n",
       "3        DVD PLAYER NO SOUND       SOUND  \n",
       "4         MP PLAYER NO POWER       POWER  "
      ]
     },
     "execution_count": 319,
     "metadata": {},
     "output_type": "execute_result"
    }
   ],
   "source": [
    "print(data_problem.shape)\n",
    "data_problem.head()"
   ]
  },
  {
   "cell_type": "code",
   "execution_count": 320,
   "metadata": {},
   "outputs": [
    {
     "data": {
      "text/html": [
       "<div>\n",
       "<style scoped>\n",
       "    .dataframe tbody tr th:only-of-type {\n",
       "        vertical-align: middle;\n",
       "    }\n",
       "\n",
       "    .dataframe tbody tr th {\n",
       "        vertical-align: top;\n",
       "    }\n",
       "\n",
       "    .dataframe thead th {\n",
       "        text-align: right;\n",
       "    }\n",
       "</style>\n",
       "<table border=\"1\" class=\"dataframe\">\n",
       "  <thead>\n",
       "    <tr style=\"text-align: right;\">\n",
       "      <th>repair_status</th>\n",
       "      <th>End of life</th>\n",
       "      <th>Fixed</th>\n",
       "      <th>Repairable</th>\n",
       "      <th>Unknown</th>\n",
       "      <th>total</th>\n",
       "      <th>repair_rate</th>\n",
       "      <th>dead_rate</th>\n",
       "    </tr>\n",
       "    <tr>\n",
       "      <th>problem_id</th>\n",
       "      <th></th>\n",
       "      <th></th>\n",
       "      <th></th>\n",
       "      <th></th>\n",
       "      <th></th>\n",
       "      <th></th>\n",
       "      <th></th>\n",
       "    </tr>\n",
       "  </thead>\n",
       "  <tbody>\n",
       "    <tr>\n",
       "      <td>HUMID</td>\n",
       "      <td>3.0</td>\n",
       "      <td>1.0</td>\n",
       "      <td>3.0</td>\n",
       "      <td>NaN</td>\n",
       "      <td>7.0</td>\n",
       "      <td>14.3</td>\n",
       "      <td>42.9</td>\n",
       "    </tr>\n",
       "    <tr>\n",
       "      <td>WATER</td>\n",
       "      <td>36.0</td>\n",
       "      <td>26.0</td>\n",
       "      <td>26.0</td>\n",
       "      <td>1.0</td>\n",
       "      <td>88.0</td>\n",
       "      <td>29.5</td>\n",
       "      <td>40.9</td>\n",
       "    </tr>\n",
       "    <tr>\n",
       "      <td>HEAT</td>\n",
       "      <td>59.0</td>\n",
       "      <td>64.0</td>\n",
       "      <td>51.0</td>\n",
       "      <td>3.0</td>\n",
       "      <td>174.0</td>\n",
       "      <td>36.8</td>\n",
       "      <td>33.9</td>\n",
       "    </tr>\n",
       "    <tr>\n",
       "      <td>MECH</td>\n",
       "      <td>27.0</td>\n",
       "      <td>45.0</td>\n",
       "      <td>22.0</td>\n",
       "      <td>NaN</td>\n",
       "      <td>94.0</td>\n",
       "      <td>47.9</td>\n",
       "      <td>28.7</td>\n",
       "    </tr>\n",
       "    <tr>\n",
       "      <td>STOP</td>\n",
       "      <td>13.0</td>\n",
       "      <td>25.0</td>\n",
       "      <td>11.0</td>\n",
       "      <td>1.0</td>\n",
       "      <td>49.0</td>\n",
       "      <td>51.0</td>\n",
       "      <td>26.5</td>\n",
       "    </tr>\n",
       "    <tr>\n",
       "      <td>POWER</td>\n",
       "      <td>142.0</td>\n",
       "      <td>219.0</td>\n",
       "      <td>184.0</td>\n",
       "      <td>1.0</td>\n",
       "      <td>545.0</td>\n",
       "      <td>40.2</td>\n",
       "      <td>26.1</td>\n",
       "    </tr>\n",
       "    <tr>\n",
       "      <td>BOOT</td>\n",
       "      <td>26.0</td>\n",
       "      <td>41.0</td>\n",
       "      <td>36.0</td>\n",
       "      <td>NaN</td>\n",
       "      <td>103.0</td>\n",
       "      <td>39.8</td>\n",
       "      <td>25.2</td>\n",
       "    </tr>\n",
       "    <tr>\n",
       "      <td>TURN</td>\n",
       "      <td>73.0</td>\n",
       "      <td>95.0</td>\n",
       "      <td>138.0</td>\n",
       "      <td>5.0</td>\n",
       "      <td>306.0</td>\n",
       "      <td>31.0</td>\n",
       "      <td>23.9</td>\n",
       "    </tr>\n",
       "    <tr>\n",
       "      <td>SOUND</td>\n",
       "      <td>34.0</td>\n",
       "      <td>76.0</td>\n",
       "      <td>50.0</td>\n",
       "      <td>3.0</td>\n",
       "      <td>160.0</td>\n",
       "      <td>47.5</td>\n",
       "      <td>21.2</td>\n",
       "    </tr>\n",
       "    <tr>\n",
       "      <td>START</td>\n",
       "      <td>20.0</td>\n",
       "      <td>41.0</td>\n",
       "      <td>36.0</td>\n",
       "      <td>3.0</td>\n",
       "      <td>97.0</td>\n",
       "      <td>42.3</td>\n",
       "      <td>20.6</td>\n",
       "    </tr>\n",
       "    <tr>\n",
       "      <td>WORK</td>\n",
       "      <td>303.0</td>\n",
       "      <td>695.0</td>\n",
       "      <td>515.0</td>\n",
       "      <td>24.0</td>\n",
       "      <td>1513.0</td>\n",
       "      <td>45.9</td>\n",
       "      <td>20.0</td>\n",
       "    </tr>\n",
       "    <tr>\n",
       "      <td>OTHER</td>\n",
       "      <td>1449.0</td>\n",
       "      <td>4383.0</td>\n",
       "      <td>1869.0</td>\n",
       "      <td>198.0</td>\n",
       "      <td>7701.0</td>\n",
       "      <td>56.9</td>\n",
       "      <td>18.8</td>\n",
       "    </tr>\n",
       "    <tr>\n",
       "      <td>SWITCH</td>\n",
       "      <td>46.0</td>\n",
       "      <td>127.0</td>\n",
       "      <td>72.0</td>\n",
       "      <td>1.0</td>\n",
       "      <td>245.0</td>\n",
       "      <td>51.8</td>\n",
       "      <td>18.8</td>\n",
       "    </tr>\n",
       "    <tr>\n",
       "      <td>CHARG</td>\n",
       "      <td>42.0</td>\n",
       "      <td>92.0</td>\n",
       "      <td>94.0</td>\n",
       "      <td>4.0</td>\n",
       "      <td>228.0</td>\n",
       "      <td>40.4</td>\n",
       "      <td>18.4</td>\n",
       "    </tr>\n",
       "    <tr>\n",
       "      <td>LIGHT</td>\n",
       "      <td>15.0</td>\n",
       "      <td>55.0</td>\n",
       "      <td>34.0</td>\n",
       "      <td>NaN</td>\n",
       "      <td>104.0</td>\n",
       "      <td>52.9</td>\n",
       "      <td>14.4</td>\n",
       "    </tr>\n",
       "    <tr>\n",
       "      <td>DEFEKT</td>\n",
       "      <td>63.0</td>\n",
       "      <td>236.0</td>\n",
       "      <td>163.0</td>\n",
       "      <td>117.0</td>\n",
       "      <td>462.0</td>\n",
       "      <td>51.1</td>\n",
       "      <td>13.6</td>\n",
       "    </tr>\n",
       "    <tr>\n",
       "      <td>NICHT</td>\n",
       "      <td>56.0</td>\n",
       "      <td>250.0</td>\n",
       "      <td>156.0</td>\n",
       "      <td>153.0</td>\n",
       "      <td>462.0</td>\n",
       "      <td>54.1</td>\n",
       "      <td>12.1</td>\n",
       "    </tr>\n",
       "    <tr>\n",
       "      <td>CONNECT</td>\n",
       "      <td>28.0</td>\n",
       "      <td>148.0</td>\n",
       "      <td>56.0</td>\n",
       "      <td>NaN</td>\n",
       "      <td>232.0</td>\n",
       "      <td>63.8</td>\n",
       "      <td>12.1</td>\n",
       "    </tr>\n",
       "    <tr>\n",
       "      <td>RAM</td>\n",
       "      <td>5.0</td>\n",
       "      <td>35.0</td>\n",
       "      <td>13.0</td>\n",
       "      <td>NaN</td>\n",
       "      <td>53.0</td>\n",
       "      <td>66.0</td>\n",
       "      <td>9.4</td>\n",
       "    </tr>\n",
       "    <tr>\n",
       "      <td>SCREEN</td>\n",
       "      <td>49.0</td>\n",
       "      <td>283.0</td>\n",
       "      <td>269.0</td>\n",
       "      <td>2.0</td>\n",
       "      <td>601.0</td>\n",
       "      <td>47.1</td>\n",
       "      <td>8.2</td>\n",
       "    </tr>\n",
       "    <tr>\n",
       "      <td>BATT</td>\n",
       "      <td>35.0</td>\n",
       "      <td>239.0</td>\n",
       "      <td>188.0</td>\n",
       "      <td>1.0</td>\n",
       "      <td>462.0</td>\n",
       "      <td>51.7</td>\n",
       "      <td>7.6</td>\n",
       "    </tr>\n",
       "    <tr>\n",
       "      <td>FUNKT</td>\n",
       "      <td>21.0</td>\n",
       "      <td>195.0</td>\n",
       "      <td>72.0</td>\n",
       "      <td>67.0</td>\n",
       "      <td>288.0</td>\n",
       "      <td>67.7</td>\n",
       "      <td>7.3</td>\n",
       "    </tr>\n",
       "    <tr>\n",
       "      <td>AKKU</td>\n",
       "      <td>2.0</td>\n",
       "      <td>17.0</td>\n",
       "      <td>13.0</td>\n",
       "      <td>2.0</td>\n",
       "      <td>32.0</td>\n",
       "      <td>53.1</td>\n",
       "      <td>6.2</td>\n",
       "    </tr>\n",
       "    <tr>\n",
       "      <td>STROM</td>\n",
       "      <td>1.0</td>\n",
       "      <td>14.0</td>\n",
       "      <td>4.0</td>\n",
       "      <td>6.0</td>\n",
       "      <td>19.0</td>\n",
       "      <td>73.7</td>\n",
       "      <td>5.3</td>\n",
       "    </tr>\n",
       "    <tr>\n",
       "      <td>CABL</td>\n",
       "      <td>11.0</td>\n",
       "      <td>161.0</td>\n",
       "      <td>49.0</td>\n",
       "      <td>1.0</td>\n",
       "      <td>221.0</td>\n",
       "      <td>72.9</td>\n",
       "      <td>5.0</td>\n",
       "    </tr>\n",
       "    <tr>\n",
       "      <td>KAPUT</td>\n",
       "      <td>3.0</td>\n",
       "      <td>38.0</td>\n",
       "      <td>22.0</td>\n",
       "      <td>10.0</td>\n",
       "      <td>63.0</td>\n",
       "      <td>60.3</td>\n",
       "      <td>4.8</td>\n",
       "    </tr>\n",
       "    <tr>\n",
       "      <td>SCHALTER</td>\n",
       "      <td>7.0</td>\n",
       "      <td>109.0</td>\n",
       "      <td>32.0</td>\n",
       "      <td>22.0</td>\n",
       "      <td>148.0</td>\n",
       "      <td>73.6</td>\n",
       "      <td>4.7</td>\n",
       "    </tr>\n",
       "    <tr>\n",
       "      <td>SLOW</td>\n",
       "      <td>10.0</td>\n",
       "      <td>155.0</td>\n",
       "      <td>53.0</td>\n",
       "      <td>NaN</td>\n",
       "      <td>218.0</td>\n",
       "      <td>71.1</td>\n",
       "      <td>4.6</td>\n",
       "    </tr>\n",
       "    <tr>\n",
       "      <td>SOLDER</td>\n",
       "      <td>4.0</td>\n",
       "      <td>67.0</td>\n",
       "      <td>19.0</td>\n",
       "      <td>NaN</td>\n",
       "      <td>90.0</td>\n",
       "      <td>74.4</td>\n",
       "      <td>4.4</td>\n",
       "    </tr>\n",
       "    <tr>\n",
       "      <td>LCD</td>\n",
       "      <td>2.0</td>\n",
       "      <td>54.0</td>\n",
       "      <td>6.0</td>\n",
       "      <td>1.0</td>\n",
       "      <td>62.0</td>\n",
       "      <td>87.1</td>\n",
       "      <td>3.2</td>\n",
       "    </tr>\n",
       "    <tr>\n",
       "      <td>SOFT</td>\n",
       "      <td>3.0</td>\n",
       "      <td>59.0</td>\n",
       "      <td>32.0</td>\n",
       "      <td>NaN</td>\n",
       "      <td>94.0</td>\n",
       "      <td>62.8</td>\n",
       "      <td>3.2</td>\n",
       "    </tr>\n",
       "    <tr>\n",
       "      <td>KABELBRUCH</td>\n",
       "      <td>2.0</td>\n",
       "      <td>68.0</td>\n",
       "      <td>5.0</td>\n",
       "      <td>2.0</td>\n",
       "      <td>75.0</td>\n",
       "      <td>90.7</td>\n",
       "      <td>2.7</td>\n",
       "    </tr>\n",
       "    <tr>\n",
       "      <td>KONTAKT</td>\n",
       "      <td>4.0</td>\n",
       "      <td>144.0</td>\n",
       "      <td>30.0</td>\n",
       "      <td>18.0</td>\n",
       "      <td>178.0</td>\n",
       "      <td>80.9</td>\n",
       "      <td>2.2</td>\n",
       "    </tr>\n",
       "    <tr>\n",
       "      <td>SSD</td>\n",
       "      <td>NaN</td>\n",
       "      <td>84.0</td>\n",
       "      <td>8.0</td>\n",
       "      <td>NaN</td>\n",
       "      <td>92.0</td>\n",
       "      <td>91.3</td>\n",
       "      <td>NaN</td>\n",
       "    </tr>\n",
       "  </tbody>\n",
       "</table>\n",
       "</div>"
      ],
      "text/plain": [
       "repair_status  End of life   Fixed  Repairable  Unknown   total  repair_rate  \\\n",
       "problem_id                                                                     \n",
       "HUMID                  3.0     1.0         3.0      NaN     7.0         14.3   \n",
       "WATER                 36.0    26.0        26.0      1.0    88.0         29.5   \n",
       "HEAT                  59.0    64.0        51.0      3.0   174.0         36.8   \n",
       "MECH                  27.0    45.0        22.0      NaN    94.0         47.9   \n",
       "STOP                  13.0    25.0        11.0      1.0    49.0         51.0   \n",
       "POWER                142.0   219.0       184.0      1.0   545.0         40.2   \n",
       "BOOT                  26.0    41.0        36.0      NaN   103.0         39.8   \n",
       "TURN                  73.0    95.0       138.0      5.0   306.0         31.0   \n",
       "SOUND                 34.0    76.0        50.0      3.0   160.0         47.5   \n",
       "START                 20.0    41.0        36.0      3.0    97.0         42.3   \n",
       "WORK                 303.0   695.0       515.0     24.0  1513.0         45.9   \n",
       "OTHER               1449.0  4383.0      1869.0    198.0  7701.0         56.9   \n",
       "SWITCH                46.0   127.0        72.0      1.0   245.0         51.8   \n",
       "CHARG                 42.0    92.0        94.0      4.0   228.0         40.4   \n",
       "LIGHT                 15.0    55.0        34.0      NaN   104.0         52.9   \n",
       "DEFEKT                63.0   236.0       163.0    117.0   462.0         51.1   \n",
       "NICHT                 56.0   250.0       156.0    153.0   462.0         54.1   \n",
       "CONNECT               28.0   148.0        56.0      NaN   232.0         63.8   \n",
       "RAM                    5.0    35.0        13.0      NaN    53.0         66.0   \n",
       "SCREEN                49.0   283.0       269.0      2.0   601.0         47.1   \n",
       "BATT                  35.0   239.0       188.0      1.0   462.0         51.7   \n",
       "FUNKT                 21.0   195.0        72.0     67.0   288.0         67.7   \n",
       "AKKU                   2.0    17.0        13.0      2.0    32.0         53.1   \n",
       "STROM                  1.0    14.0         4.0      6.0    19.0         73.7   \n",
       "CABL                  11.0   161.0        49.0      1.0   221.0         72.9   \n",
       "KAPUT                  3.0    38.0        22.0     10.0    63.0         60.3   \n",
       "SCHALTER               7.0   109.0        32.0     22.0   148.0         73.6   \n",
       "SLOW                  10.0   155.0        53.0      NaN   218.0         71.1   \n",
       "SOLDER                 4.0    67.0        19.0      NaN    90.0         74.4   \n",
       "LCD                    2.0    54.0         6.0      1.0    62.0         87.1   \n",
       "SOFT                   3.0    59.0        32.0      NaN    94.0         62.8   \n",
       "KABELBRUCH             2.0    68.0         5.0      2.0    75.0         90.7   \n",
       "KONTAKT                4.0   144.0        30.0     18.0   178.0         80.9   \n",
       "SSD                    NaN    84.0         8.0      NaN    92.0         91.3   \n",
       "\n",
       "repair_status  dead_rate  \n",
       "problem_id                \n",
       "HUMID               42.9  \n",
       "WATER               40.9  \n",
       "HEAT                33.9  \n",
       "MECH                28.7  \n",
       "STOP                26.5  \n",
       "POWER               26.1  \n",
       "BOOT                25.2  \n",
       "TURN                23.9  \n",
       "SOUND               21.2  \n",
       "START               20.6  \n",
       "WORK                20.0  \n",
       "OTHER               18.8  \n",
       "SWITCH              18.8  \n",
       "CHARG               18.4  \n",
       "LIGHT               14.4  \n",
       "DEFEKT              13.6  \n",
       "NICHT               12.1  \n",
       "CONNECT             12.1  \n",
       "RAM                  9.4  \n",
       "SCREEN               8.2  \n",
       "BATT                 7.6  \n",
       "FUNKT                7.3  \n",
       "AKKU                 6.2  \n",
       "STROM                5.3  \n",
       "CABL                 5.0  \n",
       "KAPUT                4.8  \n",
       "SCHALTER             4.7  \n",
       "SLOW                 4.6  \n",
       "SOLDER               4.4  \n",
       "LCD                  3.2  \n",
       "SOFT                 3.2  \n",
       "KABELBRUCH           2.7  \n",
       "KONTAKT              2.2  \n",
       "SSD                  NaN  "
      ]
     },
     "execution_count": 320,
     "metadata": {},
     "output_type": "execute_result"
    }
   ],
   "source": [
    "# can we see some differences in the repair rate per defect type\n",
    "#we continue working on the same data_problem\n",
    "data_problem.columns\n",
    "data_problem_explo=data_problem.groupby(by=[\"problem_id\",\"repair_status\"]).count().id.unstack()\n",
    "data_problem_explo=data_problem_explo.drop([\"2019\"], axis=1)\n",
    "data_problem_explo.loc[:,\"total\"]=data_problem_explo.iloc[:,0:3].sum(1)\n",
    "data_problem_explo.loc[:, \"repair_rate\"]=round(data_problem_explo.loc[:,\"Fixed\"]/data_problem_explo.loc[:,\"total\"]*100,1)\n",
    "data_problem_explo.loc[:, \"dead_rate\"]=round(data_problem_explo.loc[:,\"End of life\"]/data_problem_explo.loc[:,\"total\"]*100,1)\n",
    "data_problem_explo.sort_values(by=\"dead_rate\", ascending=False)"
   ]
  },
  {
   "cell_type": "code",
   "execution_count": 321,
   "metadata": {
    "scrolled": false
   },
   "outputs": [
    {
     "data": {
      "text/plain": [
       "<function matplotlib.pyplot.show(*args, **kw)>"
      ]
     },
     "execution_count": 321,
     "metadata": {},
     "output_type": "execute_result"
    },
    {
     "data": {
      "image/png": "[encoded data removed]",
      "text/plain": [
       "<Figure size 432x288 with 1 Axes>"
      ]
     },
     "metadata": {
      "needs_background": "light"
     },
     "output_type": "display_data"
    }
   ],
   "source": [
    "sns.scatterplot(x=\"repair_rate\",y=\"dead_rate\",data=data_problem_explo)\n",
    "plt.show"
   ]
  },
  {
   "cell_type": "code",
   "execution_count": 341,
   "metadata": {
    "scrolled": false
   },
   "outputs": [
    {
     "name": "stdout",
     "output_type": "stream",
     "text": [
      "5.0\n"
     ]
    }
   ],
   "source": [
    "#ML pipeline to predict if it can be repared\n",
    "data_problem.columns\n",
    "#we drop the not useful columns\n",
    "data_problem_ML=data_problem.drop([\"id\", \"data_provider\",\"model\",\"group_identifier\",\"problem\",\"my_problem\"], axis=1)\n",
    "data_problem_ML.dtypes\n",
    "\n",
    "#we create an age column\n",
    "data_problem_ML['age']=(data_problem_ML.date-data_problem_ML.year_of_manufacture)\n",
    "data_problem_ML['age']=round(data_problem_ML['age']/np.timedelta64(1,'Y'),0)\n",
    "data_problem_ML['age']=[0 if i<0 else i for i in data_problem_ML['age']]\n",
    "print(data_problem_ML['age'].median())\n",
    "#data_problem_ML.dtypes\n",
    "#data_problem_ML.groupby(by='problem_id').mean().age.sort_values(ascending=False)\n",
    "#12169 data have no age, we replace by mean age = 4.5\n",
    "#print(data_problem_ML.age.head(50))\n",
    "data_problem_ML.fillna(value={'age':5.0}, inplace = True)\n",
    "data_problem_ML.groupby(by=\"age\").count().sort_values(by=\"brand\", ascending=False)\n",
    "#we can drop \"year of manufacture column\"\n",
    "data_problem_ML=data_problem_ML.drop([\"year_of_manufacture\"], axis=1)"
   ]
  },
  {
   "cell_type": "code",
   "execution_count": 342,
   "metadata": {
    "scrolled": true
   },
   "outputs": [
    {
     "name": "stdout",
     "output_type": "stream",
     "text": [
      "['Laptop', 'Misc', 'Small kitchen item', 'Mobile', 'Lamp', 'Hi-Fi separates', 'Portable radio', 'Tablet', 'Vacuum', 'TV and gaming-related accessories', 'Hair & Beauty item', 'Power tool', 'Headphones', 'Toy', 'Toaster', 'Hi-Fi integrated', 'PC Accessory', 'Printer/scanner', 'Kettle', 'Handheld entertainment device', 'Desktop computer', 'Small home electrical', 'Flat screen', 'Decorative or safety lights', 'Digital Compact Camera', 'Fan', 'DLSR / Video Camera', 'Musical instrument', 'Sewing machine', 'Watch/clock', 'Paper shredder', 'Aircon/Dehumidifier', 'Large home electrical', 'Projector', 'Battery/charger/adapter']\n"
     ]
    },
    {
     "data": {
      "text/html": [
       "<div>\n",
       "<style scoped>\n",
       "    .dataframe tbody tr th:only-of-type {\n",
       "        vertical-align: middle;\n",
       "    }\n",
       "\n",
       "    .dataframe tbody tr th {\n",
       "        vertical-align: top;\n",
       "    }\n",
       "\n",
       "    .dataframe thead th {\n",
       "        text-align: right;\n",
       "    }\n",
       "</style>\n",
       "<table border=\"1\" class=\"dataframe\">\n",
       "  <thead>\n",
       "    <tr style=\"text-align: right;\">\n",
       "      <th></th>\n",
       "      <th>country</th>\n",
       "      <th>language</th>\n",
       "      <th>brand</th>\n",
       "      <th>repair_status</th>\n",
       "      <th>date</th>\n",
       "      <th>problem_id</th>\n",
       "      <th>age</th>\n",
       "    </tr>\n",
       "    <tr>\n",
       "      <th>product_category</th>\n",
       "      <th></th>\n",
       "      <th></th>\n",
       "      <th></th>\n",
       "      <th></th>\n",
       "      <th></th>\n",
       "      <th></th>\n",
       "      <th></th>\n",
       "    </tr>\n",
       "  </thead>\n",
       "  <tbody>\n",
       "    <tr>\n",
       "      <td>Laptop</td>\n",
       "      <td>2135</td>\n",
       "      <td>2135</td>\n",
       "      <td>2135</td>\n",
       "      <td>2135</td>\n",
       "      <td>2135</td>\n",
       "      <td>2135</td>\n",
       "      <td>2135</td>\n",
       "    </tr>\n",
       "    <tr>\n",
       "      <td>Misc</td>\n",
       "      <td>1619</td>\n",
       "      <td>1619</td>\n",
       "      <td>1619</td>\n",
       "      <td>1619</td>\n",
       "      <td>1619</td>\n",
       "      <td>1619</td>\n",
       "      <td>1619</td>\n",
       "    </tr>\n",
       "    <tr>\n",
       "      <td>Small kitchen item</td>\n",
       "      <td>1561</td>\n",
       "      <td>1561</td>\n",
       "      <td>1561</td>\n",
       "      <td>1561</td>\n",
       "      <td>1561</td>\n",
       "      <td>1561</td>\n",
       "      <td>1561</td>\n",
       "    </tr>\n",
       "    <tr>\n",
       "      <td>Mobile</td>\n",
       "      <td>1359</td>\n",
       "      <td>1359</td>\n",
       "      <td>1359</td>\n",
       "      <td>1358</td>\n",
       "      <td>1359</td>\n",
       "      <td>1359</td>\n",
       "      <td>1359</td>\n",
       "    </tr>\n",
       "    <tr>\n",
       "      <td>Lamp</td>\n",
       "      <td>878</td>\n",
       "      <td>878</td>\n",
       "      <td>874</td>\n",
       "      <td>878</td>\n",
       "      <td>878</td>\n",
       "      <td>878</td>\n",
       "      <td>878</td>\n",
       "    </tr>\n",
       "    <tr>\n",
       "      <td>Hi-Fi separates</td>\n",
       "      <td>872</td>\n",
       "      <td>872</td>\n",
       "      <td>872</td>\n",
       "      <td>872</td>\n",
       "      <td>872</td>\n",
       "      <td>872</td>\n",
       "      <td>872</td>\n",
       "    </tr>\n",
       "    <tr>\n",
       "      <td>Portable radio</td>\n",
       "      <td>766</td>\n",
       "      <td>766</td>\n",
       "      <td>766</td>\n",
       "      <td>766</td>\n",
       "      <td>766</td>\n",
       "      <td>766</td>\n",
       "      <td>766</td>\n",
       "    </tr>\n",
       "    <tr>\n",
       "      <td>Tablet</td>\n",
       "      <td>531</td>\n",
       "      <td>531</td>\n",
       "      <td>531</td>\n",
       "      <td>531</td>\n",
       "      <td>531</td>\n",
       "      <td>531</td>\n",
       "      <td>531</td>\n",
       "    </tr>\n",
       "    <tr>\n",
       "      <td>Vacuum</td>\n",
       "      <td>517</td>\n",
       "      <td>517</td>\n",
       "      <td>517</td>\n",
       "      <td>517</td>\n",
       "      <td>517</td>\n",
       "      <td>517</td>\n",
       "      <td>517</td>\n",
       "    </tr>\n",
       "    <tr>\n",
       "      <td>TV and gaming-related accessories</td>\n",
       "      <td>445</td>\n",
       "      <td>445</td>\n",
       "      <td>445</td>\n",
       "      <td>445</td>\n",
       "      <td>445</td>\n",
       "      <td>445</td>\n",
       "      <td>445</td>\n",
       "    </tr>\n",
       "    <tr>\n",
       "      <td>Hair &amp; Beauty item</td>\n",
       "      <td>430</td>\n",
       "      <td>430</td>\n",
       "      <td>430</td>\n",
       "      <td>430</td>\n",
       "      <td>430</td>\n",
       "      <td>430</td>\n",
       "      <td>430</td>\n",
       "    </tr>\n",
       "    <tr>\n",
       "      <td>Power tool</td>\n",
       "      <td>419</td>\n",
       "      <td>419</td>\n",
       "      <td>419</td>\n",
       "      <td>419</td>\n",
       "      <td>419</td>\n",
       "      <td>419</td>\n",
       "      <td>419</td>\n",
       "    </tr>\n",
       "    <tr>\n",
       "      <td>Headphones</td>\n",
       "      <td>374</td>\n",
       "      <td>374</td>\n",
       "      <td>374</td>\n",
       "      <td>374</td>\n",
       "      <td>374</td>\n",
       "      <td>374</td>\n",
       "      <td>374</td>\n",
       "    </tr>\n",
       "    <tr>\n",
       "      <td>Toy</td>\n",
       "      <td>368</td>\n",
       "      <td>368</td>\n",
       "      <td>368</td>\n",
       "      <td>368</td>\n",
       "      <td>368</td>\n",
       "      <td>368</td>\n",
       "      <td>368</td>\n",
       "    </tr>\n",
       "    <tr>\n",
       "      <td>Toaster</td>\n",
       "      <td>345</td>\n",
       "      <td>345</td>\n",
       "      <td>345</td>\n",
       "      <td>345</td>\n",
       "      <td>345</td>\n",
       "      <td>345</td>\n",
       "      <td>345</td>\n",
       "    </tr>\n",
       "    <tr>\n",
       "      <td>Hi-Fi integrated</td>\n",
       "      <td>329</td>\n",
       "      <td>329</td>\n",
       "      <td>329</td>\n",
       "      <td>329</td>\n",
       "      <td>329</td>\n",
       "      <td>329</td>\n",
       "      <td>329</td>\n",
       "    </tr>\n",
       "    <tr>\n",
       "      <td>PC Accessory</td>\n",
       "      <td>308</td>\n",
       "      <td>308</td>\n",
       "      <td>308</td>\n",
       "      <td>308</td>\n",
       "      <td>308</td>\n",
       "      <td>308</td>\n",
       "      <td>308</td>\n",
       "    </tr>\n",
       "    <tr>\n",
       "      <td>Printer/scanner</td>\n",
       "      <td>295</td>\n",
       "      <td>295</td>\n",
       "      <td>295</td>\n",
       "      <td>295</td>\n",
       "      <td>295</td>\n",
       "      <td>295</td>\n",
       "      <td>295</td>\n",
       "    </tr>\n",
       "    <tr>\n",
       "      <td>Kettle</td>\n",
       "      <td>275</td>\n",
       "      <td>275</td>\n",
       "      <td>275</td>\n",
       "      <td>275</td>\n",
       "      <td>275</td>\n",
       "      <td>275</td>\n",
       "      <td>275</td>\n",
       "    </tr>\n",
       "    <tr>\n",
       "      <td>Handheld entertainment device</td>\n",
       "      <td>274</td>\n",
       "      <td>274</td>\n",
       "      <td>274</td>\n",
       "      <td>274</td>\n",
       "      <td>274</td>\n",
       "      <td>274</td>\n",
       "      <td>274</td>\n",
       "    </tr>\n",
       "    <tr>\n",
       "      <td>Desktop computer</td>\n",
       "      <td>250</td>\n",
       "      <td>250</td>\n",
       "      <td>250</td>\n",
       "      <td>250</td>\n",
       "      <td>250</td>\n",
       "      <td>250</td>\n",
       "      <td>250</td>\n",
       "    </tr>\n",
       "    <tr>\n",
       "      <td>Small home electrical</td>\n",
       "      <td>232</td>\n",
       "      <td>232</td>\n",
       "      <td>232</td>\n",
       "      <td>232</td>\n",
       "      <td>232</td>\n",
       "      <td>232</td>\n",
       "      <td>232</td>\n",
       "    </tr>\n",
       "    <tr>\n",
       "      <td>Flat screen</td>\n",
       "      <td>214</td>\n",
       "      <td>214</td>\n",
       "      <td>214</td>\n",
       "      <td>214</td>\n",
       "      <td>214</td>\n",
       "      <td>214</td>\n",
       "      <td>214</td>\n",
       "    </tr>\n",
       "    <tr>\n",
       "      <td>Decorative or safety lights</td>\n",
       "      <td>170</td>\n",
       "      <td>170</td>\n",
       "      <td>170</td>\n",
       "      <td>170</td>\n",
       "      <td>170</td>\n",
       "      <td>170</td>\n",
       "      <td>170</td>\n",
       "    </tr>\n",
       "    <tr>\n",
       "      <td>Digital Compact Camera</td>\n",
       "      <td>154</td>\n",
       "      <td>154</td>\n",
       "      <td>154</td>\n",
       "      <td>154</td>\n",
       "      <td>154</td>\n",
       "      <td>154</td>\n",
       "      <td>154</td>\n",
       "    </tr>\n",
       "    <tr>\n",
       "      <td>Fan</td>\n",
       "      <td>138</td>\n",
       "      <td>138</td>\n",
       "      <td>138</td>\n",
       "      <td>138</td>\n",
       "      <td>138</td>\n",
       "      <td>138</td>\n",
       "      <td>138</td>\n",
       "    </tr>\n",
       "    <tr>\n",
       "      <td>DLSR / Video Camera</td>\n",
       "      <td>116</td>\n",
       "      <td>116</td>\n",
       "      <td>116</td>\n",
       "      <td>116</td>\n",
       "      <td>116</td>\n",
       "      <td>116</td>\n",
       "      <td>116</td>\n",
       "    </tr>\n",
       "    <tr>\n",
       "      <td>Musical instrument</td>\n",
       "      <td>105</td>\n",
       "      <td>105</td>\n",
       "      <td>105</td>\n",
       "      <td>105</td>\n",
       "      <td>105</td>\n",
       "      <td>105</td>\n",
       "      <td>105</td>\n",
       "    </tr>\n",
       "    <tr>\n",
       "      <td>Sewing machine</td>\n",
       "      <td>90</td>\n",
       "      <td>90</td>\n",
       "      <td>90</td>\n",
       "      <td>90</td>\n",
       "      <td>90</td>\n",
       "      <td>90</td>\n",
       "      <td>90</td>\n",
       "    </tr>\n",
       "    <tr>\n",
       "      <td>Watch/clock</td>\n",
       "      <td>76</td>\n",
       "      <td>76</td>\n",
       "      <td>76</td>\n",
       "      <td>76</td>\n",
       "      <td>76</td>\n",
       "      <td>76</td>\n",
       "      <td>76</td>\n",
       "    </tr>\n",
       "    <tr>\n",
       "      <td>Paper shredder</td>\n",
       "      <td>68</td>\n",
       "      <td>68</td>\n",
       "      <td>68</td>\n",
       "      <td>68</td>\n",
       "      <td>68</td>\n",
       "      <td>68</td>\n",
       "      <td>68</td>\n",
       "    </tr>\n",
       "    <tr>\n",
       "      <td>Aircon/Dehumidifier</td>\n",
       "      <td>67</td>\n",
       "      <td>67</td>\n",
       "      <td>67</td>\n",
       "      <td>67</td>\n",
       "      <td>67</td>\n",
       "      <td>67</td>\n",
       "      <td>67</td>\n",
       "    </tr>\n",
       "    <tr>\n",
       "      <td>Large home electrical</td>\n",
       "      <td>66</td>\n",
       "      <td>66</td>\n",
       "      <td>66</td>\n",
       "      <td>66</td>\n",
       "      <td>66</td>\n",
       "      <td>66</td>\n",
       "      <td>66</td>\n",
       "    </tr>\n",
       "    <tr>\n",
       "      <td>Projector</td>\n",
       "      <td>42</td>\n",
       "      <td>42</td>\n",
       "      <td>42</td>\n",
       "      <td>42</td>\n",
       "      <td>42</td>\n",
       "      <td>42</td>\n",
       "      <td>42</td>\n",
       "    </tr>\n",
       "    <tr>\n",
       "      <td>Battery/charger/adapter</td>\n",
       "      <td>26</td>\n",
       "      <td>26</td>\n",
       "      <td>26</td>\n",
       "      <td>26</td>\n",
       "      <td>26</td>\n",
       "      <td>26</td>\n",
       "      <td>26</td>\n",
       "    </tr>\n",
       "  </tbody>\n",
       "</table>\n",
       "</div>"
      ],
      "text/plain": [
       "                                   country  language  brand  repair_status  \\\n",
       "product_category                                                             \n",
       "Laptop                                2135      2135   2135           2135   \n",
       "Misc                                  1619      1619   1619           1619   \n",
       "Small kitchen item                    1561      1561   1561           1561   \n",
       "Mobile                                1359      1359   1359           1358   \n",
       "Lamp                                   878       878    874            878   \n",
       "Hi-Fi separates                        872       872    872            872   \n",
       "Portable radio                         766       766    766            766   \n",
       "Tablet                                 531       531    531            531   \n",
       "Vacuum                                 517       517    517            517   \n",
       "TV and gaming-related accessories      445       445    445            445   \n",
       "Hair & Beauty item                     430       430    430            430   \n",
       "Power tool                             419       419    419            419   \n",
       "Headphones                             374       374    374            374   \n",
       "Toy                                    368       368    368            368   \n",
       "Toaster                                345       345    345            345   \n",
       "Hi-Fi integrated                       329       329    329            329   \n",
       "PC Accessory                           308       308    308            308   \n",
       "Printer/scanner                        295       295    295            295   \n",
       "Kettle                                 275       275    275            275   \n",
       "Handheld entertainment device          274       274    274            274   \n",
       "Desktop computer                       250       250    250            250   \n",
       "Small home electrical                  232       232    232            232   \n",
       "Flat screen                            214       214    214            214   \n",
       "Decorative or safety lights            170       170    170            170   \n",
       "Digital Compact Camera                 154       154    154            154   \n",
       "Fan                                    138       138    138            138   \n",
       "DLSR / Video Camera                    116       116    116            116   \n",
       "Musical instrument                     105       105    105            105   \n",
       "Sewing machine                          90        90     90             90   \n",
       "Watch/clock                             76        76     76             76   \n",
       "Paper shredder                          68        68     68             68   \n",
       "Aircon/Dehumidifier                     67        67     67             67   \n",
       "Large home electrical                   66        66     66             66   \n",
       "Projector                               42        42     42             42   \n",
       "Battery/charger/adapter                 26        26     26             26   \n",
       "\n",
       "                                   date  problem_id   age  \n",
       "product_category                                           \n",
       "Laptop                             2135        2135  2135  \n",
       "Misc                               1619        1619  1619  \n",
       "Small kitchen item                 1561        1561  1561  \n",
       "Mobile                             1359        1359  1359  \n",
       "Lamp                                878         878   878  \n",
       "Hi-Fi separates                     872         872   872  \n",
       "Portable radio                      766         766   766  \n",
       "Tablet                              531         531   531  \n",
       "Vacuum                              517         517   517  \n",
       "TV and gaming-related accessories   445         445   445  \n",
       "Hair & Beauty item                  430         430   430  \n",
       "Power tool                          419         419   419  \n",
       "Headphones                          374         374   374  \n",
       "Toy                                 368         368   368  \n",
       "Toaster                             345         345   345  \n",
       "Hi-Fi integrated                    329         329   329  \n",
       "PC Accessory                        308         308   308  \n",
       "Printer/scanner                     295         295   295  \n",
       "Kettle                              275         275   275  \n",
       "Handheld entertainment device       274         274   274  \n",
       "Desktop computer                    250         250   250  \n",
       "Small home electrical               232         232   232  \n",
       "Flat screen                         214         214   214  \n",
       "Decorative or safety lights         170         170   170  \n",
       "Digital Compact Camera              154         154   154  \n",
       "Fan                                 138         138   138  \n",
       "DLSR / Video Camera                 116         116   116  \n",
       "Musical instrument                  105         105   105  \n",
       "Sewing machine                       90          90    90  \n",
       "Watch/clock                          76          76    76  \n",
       "Paper shredder                       68          68    68  \n",
       "Aircon/Dehumidifier                  67          67    67  \n",
       "Large home electrical                66          66    66  \n",
       "Projector                            42          42    42  \n",
       "Battery/charger/adapter              26          26    26  "
      ]
     },
     "execution_count": 342,
     "metadata": {},
     "output_type": "execute_result"
    }
   ],
   "source": [
    "#we continue ML pipeline data preparation with selection of categories\n",
    "data_problem_ML.columns\n",
    "data_problem_ML_cat=data_problem_ML.groupby(by=\"product_category\").count().sort_values(by=\"brand\", ascending=False)\n",
    "\n",
    "#we drop categories where there are less than 20 observations\n",
    "list_cat=data_problem_ML_cat[data_problem_ML_cat[\"brand\"]>10].index.to_list()\n",
    "print(list_cat)\n",
    "data_problem_ML_2=data_problem_ML[~data_problem_ML.brand.isin(list_cat)]\n",
    "data_problem_ML_2.groupby(by=\"product_category\").count().sort_values(by=\"brand\", ascending=False)\n",
    "#does not work but we continue"
   ]
  },
  {
   "cell_type": "code",
   "execution_count": 343,
   "metadata": {
    "scrolled": false
   },
   "outputs": [
    {
     "data": {
      "text/plain": [
       "country              object\n",
       "language             object\n",
       "product_category     object\n",
       "brand                object\n",
       "repair_status        object\n",
       "problem_id           object\n",
       "age                 float64\n",
       "repar_year            int64\n",
       "dtype: object"
      ]
     },
     "execution_count": 343,
     "metadata": {},
     "output_type": "execute_result"
    }
   ],
   "source": [
    "# what is the status of the data_problem_ML database\n",
    "data_problem_ML.dtypes\n",
    "#we convert date to year\n",
    "data_problem_ML[\"repar_year\"]=[my_date.year for my_date in data_problem_ML[\"date\"]]\n",
    "\n",
    "#we drop date column\n",
    "data_problem_ML=data_problem_ML.drop(\"date\", axis=1)\n",
    "data_problem_ML.dtypes"
   ]
  },
  {
   "cell_type": "code",
   "execution_count": 344,
   "metadata": {},
   "outputs": [],
   "source": [
    "#we split the repair status as a 2 states cat column: fixed or not_fixed\n",
    "data_problem_ML.loc[:,\"fixed\"]=[1 if my_repair_state==\"Fixed\" else 0 for my_repair_state in data_problem_ML.repair_status]\n",
    "data_problem_ML=data_problem_ML.drop(\"repair_status\", axis=1)"
   ]
  },
  {
   "cell_type": "code",
   "execution_count": 345,
   "metadata": {
    "scrolled": true
   },
   "outputs": [],
   "source": [
    "#we drop the lines where the problem_id is \"other\" and \"not managed\"\n",
    "#data_problem_ML=data_problem_ML[data_problem_ML.problem_id != \"OTHER\"]\n",
    "#data_problem_ML=data_problem_ML[data_problem_ML.problem_id != \"NOT MANAGED\"]"
   ]
  },
  {
   "cell_type": "code",
   "execution_count": 346,
   "metadata": {
    "scrolled": true
   },
   "outputs": [],
   "source": [
    "#we clean the brand column\n",
    "#we drop all brands who have less than 10 occurence"
   ]
  },
  {
   "cell_type": "code",
   "execution_count": 347,
   "metadata": {},
   "outputs": [],
   "source": [
    "#We import the appropriate packages\n",
    "from sklearn.ensemble import RandomForestClassifier,GradientBoostingClassifier\n",
    "from sklearn.metrics import accuracy_score\n",
    "from sklearn.metrics import roc_curve\n",
    "from sklearn.metrics import auc\n",
    "from sklearn.multiclass import OneVsRestClassifier\n",
    "from sklearn.multioutput import MultiOutputClassifier\n",
    "from sklearn.metrics import confusion_matrix\n",
    "from sklearn import linear_model\n",
    "\n",
    "SEED=222"
   ]
  },
  {
   "cell_type": "code",
   "execution_count": 348,
   "metadata": {},
   "outputs": [
    {
     "name": "stdout",
     "output_type": "stream",
     "text": [
      "Index(['country', 'language', 'product_category', 'brand', 'problem_id', 'age',\n",
      "       'repar_year', 'fixed'],\n",
      "      dtype='object')\n"
     ]
    },
    {
     "data": {
      "text/plain": [
       "(15914, 8)"
      ]
     },
     "execution_count": 348,
     "metadata": {},
     "output_type": "execute_result"
    }
   ],
   "source": [
    "print(data_problem_ML.columns)\n",
    "data_problem_ML.shape"
   ]
  },
  {
   "cell_type": "code",
   "execution_count": 349,
   "metadata": {},
   "outputs": [],
   "source": [
    "data_problem_ML[\"product_category\"]=pd.Categorical(data_problem_ML[\"product_category\"])\n",
    "data_problem_ML[\"product_category_label\"]=data_problem_ML[\"product_category\"].cat.codes\n",
    "data_problem_ML[\"brand\"]=pd.Categorical(data_problem_ML[\"brand\"])\n",
    "data_problem_ML[\"brand_label\"]=data_problem_ML[\"brand\"].cat.codes\n",
    "data_problem_ML[\"problem_id\"]=pd.Categorical(data_problem_ML[\"problem_id\"])\n",
    "data_problem_ML[\"problem_id_label\"]=data_problem_ML[\"problem_id\"].cat.codes\n",
    "data_problem_ML[\"language\"]=pd.Categorical(data_problem_ML[\"language\"])\n",
    "data_problem_ML[\"language_label\"]=data_problem_ML[\"language\"].cat.codes\n",
    "data_problem_ML[\"country\"]=pd.Categorical(data_problem_ML[\"country\"])\n",
    "data_problem_ML[\"country_label\"]=data_problem_ML[\"country\"].cat.codes\n",
    "data_problem_ML[\"age\"]=pd.Categorical(data_problem_ML[\"age\"])\n",
    "data_problem_ML[\"age_label\"]=data_problem_ML[\"age\"].cat.codes"
   ]
  },
  {
   "cell_type": "code",
   "execution_count": 350,
   "metadata": {},
   "outputs": [],
   "source": [
    "# we create combination columns\n",
    "# column1: combination of age and brand\n",
    "data_problem_ML['comb_age_brand']=(data_problem_ML['age_label']+1)*(data_problem_ML['brand_label']+1)\n",
    "# column2: combination of product_category and age\n",
    "data_problem_ML['comb_cat_age']=(data_problem_ML['age_label']+1)*(data_problem_ML['product_category_label']+1)\n",
    "# column3: combination of brand and problem_id\n",
    "data_problem_ML['comb_brand_pbid']=(data_problem_ML['problem_id_label']+1)*(data_problem_ML['brand_label']+1)\n",
    "#column_4: combination of age and problem_id\n",
    "data_problem_ML['comb_age_pbid']=(data_problem_ML['problem_id_label']+1)*(data_problem_ML['age_label']+1)\n",
    "# column5: combination of cat and brand\n",
    "data_problem_ML['comb_cat_brand']=(data_problem_ML['product_category_label']+1)*(data_problem_ML['brand_label']+1)\n",
    "# column6: age category column\n",
    "data_problem_ML['comb_cat_brand']=(data_problem_ML['product_category_label']+1)*(data_problem_ML['brand_label']+1)"
   ]
  },
  {
   "cell_type": "code",
   "execution_count": 351,
   "metadata": {},
   "outputs": [
    {
     "data": {
      "text/plain": [
       "(15914, 13)"
      ]
     },
     "execution_count": 351,
     "metadata": {},
     "output_type": "execute_result"
    }
   ],
   "source": [
    "# we drop the first not cat columns\n",
    "data_problem_ML_2=data_problem_ML.drop(columns=[\"product_category\",\"brand\",\"problem_id\",\"country\",\"language\",\"age\"])\n",
    "\n",
    "data_problem_ML_2.dtypes\n",
    "data_problem_ML_2.shape"
   ]
  },
  {
   "cell_type": "code",
   "execution_count": 352,
   "metadata": {},
   "outputs": [],
   "source": [
    "for i in data_problem_ML_2.columns:\n",
    "    counts = data_problem_ML_2.loc[:,i].value_counts().to_dict()\n",
    "    data_problem_ML_2[''+i+'_counts'] = data_problem_ML_2.loc[:,i].map(counts)"
   ]
  },
  {
   "cell_type": "code",
   "execution_count": 353,
   "metadata": {
    "scrolled": true
   },
   "outputs": [
    {
     "data": {
      "text/plain": [
       "(15914, 26)"
      ]
     },
     "execution_count": 353,
     "metadata": {},
     "output_type": "execute_result"
    }
   ],
   "source": [
    "data_problem_ML_2.columns\n",
    "data_problem_ML_2.shape"
   ]
  },
  {
   "cell_type": "code",
   "execution_count": 354,
   "metadata": {
    "scrolled": true
   },
   "outputs": [
    {
     "data": {
      "text/plain": [
       "repar_year                        1900\n",
       "fixed                                0\n",
       "product_category_label               0\n",
       "brand_label                          7\n",
       "problem_id_label                     0\n",
       "language_label                       0\n",
       "country_label                        0\n",
       "age_label                            0\n",
       "comb_age_brand                  -32668\n",
       "comb_cat_age                      -128\n",
       "comb_brand_pbid                 -32386\n",
       "comb_age_pbid                     -128\n",
       "comb_cat_brand                  -32426\n",
       "repar_year_counts                    2\n",
       "fixed_counts                      7573\n",
       "product_category_label_counts       26\n",
       "brand_label_counts                   6\n",
       "problem_id_label_counts              7\n",
       "language_label_counts             2938\n",
       "country_label_counts                 1\n",
       "age_label_counts                     1\n",
       "comb_age_brand_counts                1\n",
       "comb_cat_age_counts                  1\n",
       "comb_brand_pbid_counts               1\n",
       "comb_age_pbid_counts                 1\n",
       "comb_cat_brand_counts                1\n",
       "dtype: int64"
      ]
     },
     "execution_count": 354,
     "metadata": {},
     "output_type": "execute_result"
    }
   ],
   "source": [
    "# we drop the lines where value counts of brand_label is below 10\n",
    "data_problem_ML_2=data_problem_ML_2[data_problem_ML_2.brand_label_counts>5]\n",
    "data_problem_ML_2.min()"
   ]
  },
  {
   "cell_type": "code",
   "execution_count": 355,
   "metadata": {
    "scrolled": true
   },
   "outputs": [
    {
     "name": "stdout",
     "output_type": "stream",
     "text": [
      "(14440, 24)\n",
      "(14440,)\n",
      "(12996, 24) (1444, 24) (12996,) (1444,)\n",
      "int64\n"
     ]
    }
   ],
   "source": [
    "#let's build the train and test dataset\n",
    "from sklearn.model_selection import train_test_split\n",
    "from sklearn.preprocessing import MinMaxScaler\n",
    "from sklearn import preprocessing\n",
    "le = preprocessing.LabelEncoder()\n",
    "train_good=data_problem_ML_2\n",
    "X=train_good.drop(['fixed','fixed_counts'],axis=1)\n",
    "scaler = MinMaxScaler()\n",
    "X_scale=scaler.fit_transform(X.values)\n",
    "#print(X.columns)\n",
    "print(X_scale.shape)\n",
    "Y=le.fit_transform(train_good['fixed'])\n",
    "print(Y.shape)\n",
    "X_train,X_test,y_train,y_test=train_test_split(X_scale,Y,test_size=0.1,random_state=2012)\n",
    "print(X_train.shape, X_test.shape,y_train.shape,y_test.shape)\n",
    "print(y_test.dtype)"
   ]
  },
  {
   "cell_type": "code",
   "execution_count": 356,
   "metadata": {},
   "outputs": [
    {
     "name": "stderr",
     "output_type": "stream",
     "text": [
      "C:\\Users\\jeanm\\Anaconda3\\envs\\test\\lib\\site-packages\\sklearn\\svm\\base.py:193: FutureWarning: The default value of gamma will change from 'auto' to 'scale' in version 0.22 to account better for unscaled features. Set gamma explicitly to 'auto' or 'scale' to avoid this warning.\n",
      "  \"avoid this warning.\", FutureWarning)\n"
     ]
    },
    {
     "data": {
      "text/html": [
       "<div>\n",
       "<style scoped>\n",
       "    .dataframe tbody tr th:only-of-type {\n",
       "        vertical-align: middle;\n",
       "    }\n",
       "\n",
       "    .dataframe tbody tr th {\n",
       "        vertical-align: top;\n",
       "    }\n",
       "\n",
       "    .dataframe thead th {\n",
       "        text-align: right;\n",
       "    }\n",
       "</style>\n",
       "<table border=\"1\" class=\"dataframe\">\n",
       "  <thead>\n",
       "    <tr style=\"text-align: right;\">\n",
       "      <th></th>\n",
       "      <th>Model</th>\n",
       "      <th>Accuracy Score</th>\n",
       "    </tr>\n",
       "  </thead>\n",
       "  <tbody>\n",
       "    <tr>\n",
       "      <td>0</td>\n",
       "      <td>GradientBoostingClassifier</td>\n",
       "      <td>0.630194</td>\n",
       "    </tr>\n",
       "    <tr>\n",
       "      <td>0</td>\n",
       "      <td>RandomForestClassifier</td>\n",
       "      <td>0.609418</td>\n",
       "    </tr>\n",
       "    <tr>\n",
       "      <td>0</td>\n",
       "      <td>KNeighborsClassifier</td>\n",
       "      <td>0.604571</td>\n",
       "    </tr>\n",
       "    <tr>\n",
       "      <td>0</td>\n",
       "      <td>X Gradient Boost</td>\n",
       "      <td>0.596953</td>\n",
       "    </tr>\n",
       "    <tr>\n",
       "      <td>0</td>\n",
       "      <td>NeuralNetwork</td>\n",
       "      <td>0.585180</td>\n",
       "    </tr>\n",
       "    <tr>\n",
       "      <td>0</td>\n",
       "      <td>Naive Bayes</td>\n",
       "      <td>0.550554</td>\n",
       "    </tr>\n",
       "    <tr>\n",
       "      <td>0</td>\n",
       "      <td>SVC</td>\n",
       "      <td>0.543629</td>\n",
       "    </tr>\n",
       "  </tbody>\n",
       "</table>\n",
       "</div>"
      ],
      "text/plain": [
       "                        Model  Accuracy Score\n",
       "0  GradientBoostingClassifier        0.630194\n",
       "0      RandomForestClassifier        0.609418\n",
       "0        KNeighborsClassifier        0.604571\n",
       "0            X Gradient Boost        0.596953\n",
       "0               NeuralNetwork        0.585180\n",
       "0                 Naive Bayes        0.550554\n",
       "0                         SVC        0.543629"
      ]
     },
     "execution_count": 356,
     "metadata": {},
     "output_type": "execute_result"
    }
   ],
   "source": [
    "from sklearn.ensemble import RandomForestClassifier, GradientBoostingClassifier\n",
    "from sklearn.neighbors import KNeighborsClassifier\n",
    "from sklearn.neural_network import MLPClassifier\n",
    "from sklearn.metrics import accuracy_score\n",
    "from sklearn.metrics import roc_curve\n",
    "from sklearn.metrics import auc\n",
    "from sklearn.svm import SVC\n",
    "from sklearn.naive_bayes import MultinomialNB\n",
    "from xgboost import XGBClassifier\n",
    "\n",
    "gb = GradientBoostingClassifier(n_estimators=400, random_state=2018)\n",
    "rf = RandomForestClassifier(n_estimators=100, max_depth=7,min_samples_split=2,random_state=2012)\n",
    "knn = KNeighborsClassifier(n_neighbors=100,weights='distance')\n",
    "nn = MLPClassifier((50,50,50),early_stopping=False, max_iter=200, random_state=2010, solver=\"lbfgs\")\n",
    "svm = SVC(kernel='rbf',probability=True,random_state=42)\n",
    "clf=MultinomialNB()\n",
    "xgbc=XGBClassifier(n_estimators=46, max_depth=3, booster='gbtree')\n",
    "\n",
    "Results = pd.DataFrame({'Model': [],'Accuracy Score': []})\n",
    "\n",
    "gb.fit(X_train, y_train)\n",
    "Y_pred= gb.predict(X_test)\n",
    "res = pd.DataFrame({\"Model\":['GradientBoostingClassifier'],\n",
    "                    \"Accuracy Score\": [accuracy_score(Y_pred,y_test)]})\n",
    "Results = Results.append(res)\n",
    "\n",
    "rf.fit(X_train, y_train)\n",
    "Y_pred= rf.predict(X_test)\n",
    "res = pd.DataFrame({\"Model\":['RandomForestClassifier'],\n",
    "                    \"Accuracy Score\": [accuracy_score(Y_pred,y_test)]})\n",
    "Results = Results.append(res)\n",
    "\n",
    "knn.fit(X_train, y_train)\n",
    "Y_pred= knn.predict(X_test)\n",
    "res = pd.DataFrame({\"Model\":['KNeighborsClassifier'],\n",
    "                    \"Accuracy Score\": [accuracy_score(Y_pred,y_test)]})\n",
    "Results = Results.append(res)\n",
    "\n",
    "nn.fit(X_train, y_train)\n",
    "Y_pred= nn.predict(X_test)\n",
    "res = pd.DataFrame({\"Model\":['NeuralNetwork'],\n",
    "                    \"Accuracy Score\": [accuracy_score(Y_pred,y_test)]})\n",
    "Results = Results.append(res)\n",
    "\n",
    "svm.fit(X_train, y_train)\n",
    "Y_pred= svm.predict(X_test)\n",
    "res = pd.DataFrame({\"Model\":['SVC'],\n",
    "                    \"Accuracy Score\": [accuracy_score(Y_pred,y_test)]})\n",
    "Results = Results.append(res)\n",
    "\n",
    "clf.fit(X_train, y_train)\n",
    "Y_pred= clf.predict(X_test)\n",
    "res = pd.DataFrame({\"Model\":['Naive Bayes'],\n",
    "                    \"Accuracy Score\": [accuracy_score(Y_pred,y_test)]})\n",
    "Results = Results.append(res)\n",
    "\n",
    "xgbc.fit(X_train, y_train)\n",
    "Y_pred= xgbc.predict(X_test)\n",
    "res = pd.DataFrame({\"Model\":['X Gradient Boost'],\n",
    "                    \"Accuracy Score\": [accuracy_score(Y_pred,y_test)]})\n",
    "Results = Results.append(res)\n",
    "\n",
    "Results.sort_values(by='Accuracy Score', ascending=False)"
   ]
  },
  {
   "cell_type": "code",
   "execution_count": 238,
   "metadata": {
    "scrolled": true
   },
   "outputs": [
    {
     "data": {
      "text/plain": [
       "<function matplotlib.pyplot.show(*args, **kw)>"
      ]
     },
     "execution_count": 238,
     "metadata": {},
     "output_type": "execute_result"
    },
    {
     "data": {
      "image/png": "[encoded data removed]",
      "text/plain": [
       "<Figure size 432x288 with 1 Axes>"
      ]
     },
     "metadata": {
      "needs_background": "light"
     },
     "output_type": "display_data"
    }
   ],
   "source": [
    "#depths exploration of the random forrest classifier\n",
    "max_depths = np.arange(1,30,2)\n",
    "train_results = []\n",
    "test_results = []\n",
    "for max_depth in max_depths:\n",
    "   rf_opt = RandomForestClassifier(n_estimators=10, max_depth=max_depth, n_jobs=-1, min_samples_split=2,random_state=2018)\n",
    "   rf_opt.fit(X_train, y_train)\n",
    "   train_pred = rf_opt.predict(X_train)\n",
    "   false_positive_rate, true_positive_rate, thresholds = roc_curve(y_train, train_pred, pos_label=1)\n",
    "   roc_auc = auc(false_positive_rate, true_positive_rate)\n",
    "   train_results.append(roc_auc)\n",
    "   y_pred = rf_opt.predict(X_test)\n",
    "   false_positive_rate, true_positive_rate, thresholds = roc_curve(y_test, y_pred, pos_label=1)\n",
    "   roc_auc = auc(false_positive_rate, true_positive_rate)\n",
    "   test_results.append(roc_auc)\n",
    "from matplotlib.legend_handler import HandlerLine2D\n",
    "line1, = plt.plot(max_depths, train_results, 'b', label=\"Train AUC\")\n",
    "line2, = plt.plot(max_depths, test_results, 'r', label=\"Test AUC\")\n",
    "plt.legend(handler_map={line1: HandlerLine2D(numpoints=2)})\n",
    "plt.ylabel('AUC score')\n",
    "plt.xlabel('Tree depth')\n",
    "plt.show"
   ]
  },
  {
   "cell_type": "code",
   "execution_count": 239,
   "metadata": {},
   "outputs": [
    {
     "data": {
      "text/plain": [
       "<function matplotlib.pyplot.show(*args, **kw)>"
      ]
     },
     "execution_count": 239,
     "metadata": {},
     "output_type": "execute_result"
    },
    {
     "data": {
      "image/png": "[encoded data removed]",
      "text/plain": [
       "<Figure size 432x288 with 1 Axes>"
      ]
     },
     "metadata": {
      "needs_background": "light"
     },
     "output_type": "display_data"
    }
   ],
   "source": [
    "max_estimators = np.arange(1, 200,10)\n",
    "train_results = []\n",
    "test_results = []\n",
    "for max_estim in max_estimators:\n",
    "   rf_opt = RandomForestClassifier(n_estimators=max_estim, max_depth=5, n_jobs=-1,min_samples_split=2,random_state=2018)\n",
    "   rf_opt.fit(X_train, y_train)\n",
    "   train_pred = rf_opt.predict(X_train)\n",
    "   false_positive_rate, true_positive_rate, thresholds = roc_curve(y_train, train_pred, pos_label=1)\n",
    "   roc_auc = auc(false_positive_rate, true_positive_rate)\n",
    "   train_results.append(roc_auc)\n",
    "   y_pred = rf_opt.predict(X_test)\n",
    "   false_positive_rate, true_positive_rate, thresholds = roc_curve(y_test, y_pred, pos_label=1)\n",
    "   roc_auc = auc(false_positive_rate, true_positive_rate)\n",
    "   test_results.append(roc_auc)\n",
    "from matplotlib.legend_handler import HandlerLine2D\n",
    "line1, = plt.plot(max_estimators, train_results, 'b', label=\"Train AUC\")\n",
    "line2, = plt.plot(max_estimators, test_results, 'r', label=\"Test AUC\")\n",
    "plt.legend(handler_map={line1: HandlerLine2D(numpoints=2)})\n",
    "plt.ylabel('AUC score')\n",
    "plt.xlabel('n estimators')\n",
    "plt.show"
   ]
  },
  {
   "cell_type": "code",
   "execution_count": 359,
   "metadata": {
    "scrolled": true
   },
   "outputs": [
    {
     "name": "stdout",
     "output_type": "stream",
     "text": [
      "0    6753\n",
      "1    7687\n",
      "Name: repar_year, dtype: int64\n",
      "0    6829\n",
      "1    7611\n",
      "Name: repar_year, dtype: int64\n",
      "0.6685595567867036\n"
     ]
    }
   ],
   "source": [
    "data_problem_ML_2.loc[:,\"predicted\"]=gb.predict(X_scale)\n",
    "print(data_problem_ML_2.groupby(by=\"predicted\").count().reset_index().iloc[:,1])\n",
    "print(data_problem_ML_2.groupby(by=\"fixed\").count().reset_index().iloc[:,1])\n",
    "data_problem_ML_2.loc[:,'good_prediction']=[1 if data_problem_ML_2.iloc[i,data_problem_ML_2.columns.get_loc('predicted')]==data_problem_ML_2.iloc[i,data_problem_ML_2.columns.get_loc('fixed')] else 0 for i in range(data_problem_ML_2.shape[0])]\n",
    "data_problem_ML_2.loc[:,'good_prediction'].value_counts()\n",
    "print(data_problem_ML_2.loc[:,'good_prediction'].value_counts()[1]/data_problem_ML_2.loc[:,'good_prediction'].value_counts().sum())"
   ]
  },
  {
   "cell_type": "code",
   "execution_count": 360,
   "metadata": {},
   "outputs": [
    {
     "name": "stdout",
     "output_type": "stream",
     "text": [
      "0.5734072022160664\n",
      "0.5554016620498615\n"
     ]
    },
    {
     "name": "stderr",
     "output_type": "stream",
     "text": [
      "C:\\Users\\jeanm\\Anaconda3\\envs\\test\\lib\\site-packages\\sklearn\\linear_model\\logistic.py:947: ConvergenceWarning: lbfgs failed to converge. Increase the number of iterations.\n",
      "  \"of iterations.\", ConvergenceWarning)\n"
     ]
    }
   ],
   "source": [
    "#let's try to do it with multiclass logistic regression\n",
    "from sklearn.linear_model import LogisticRegression\n",
    "clf = LogisticRegression(random_state=0, solver='lbfgs',multi_class='multinomial').fit(X_train, y_train)\n",
    "print(clf.score(X_train, y_train))\n",
    "print(clf.score(X_test, y_test))"
   ]
  },
  {
   "cell_type": "code",
   "execution_count": 188,
   "metadata": {
    "scrolled": true
   },
   "outputs": [
    {
     "data": {
      "text/plain": [
       "Index(['age', 'repar_year', 'product_category_label', 'brand_label',\n",
       "       'problem_id_label', 'age_counts', 'repar_year_counts',\n",
       "       'product_category_label_counts', 'brand_label_counts',\n",
       "       'problem_id_label_counts'],\n",
       "      dtype='object')"
      ]
     },
     "execution_count": 188,
     "metadata": {},
     "output_type": "execute_result"
    }
   ],
   "source": [
    "X.columns"
   ]
  },
  {
   "cell_type": "code",
   "execution_count": null,
   "metadata": {},
   "outputs": [],
   "source": []
  },
  {
   "cell_type": "code",
   "execution_count": null,
   "metadata": {},
   "outputs": [],
   "source": []
  },
  {
   "cell_type": "code",
   "execution_count": null,
   "metadata": {},
   "outputs": [],
   "source": []
  },
  {
   "cell_type": "code",
   "execution_count": 189,
   "metadata": {
    "scrolled": true
   },
   "outputs": [
    {
     "name": "stdout",
     "output_type": "stream",
     "text": [
      "group_identifier\n",
      "Restart HQ                  1575\n",
      "Hackney Fixers              1223\n",
      "repaircafe-dresden          1210\n",
      "RéparothonsINSERTECH (Mo     738\n",
      "Club de Reparadores          630\n",
      "                            ... \n",
      "repair-cafe-wf                 1\n",
      "Repair Café Herzele            1\n",
      "Repair Café Haacht             1\n",
      "Restarters Romandie            1\n",
      "tomstest-reparaturcafe         1\n",
      "Name: id, Length: 112, dtype: int64\n"
     ]
    }
   ],
   "source": [
    "data_group=data_repair_tot.groupby(by='group_identifier').count().sort_values(['id'], ascending=False).id\n",
    "print(data_group)"
   ]
  },
  {
   "cell_type": "markdown",
   "metadata": {},
   "source": [
    "- the \"group_identifier\" identifies the repair cafe where the repair is made"
   ]
  },
  {
   "cell_type": "markdown",
   "metadata": {},
   "source": [
    "++focus on MOBILE PHONES++"
   ]
  },
  {
   "cell_type": "code",
   "execution_count": 190,
   "metadata": {
    "scrolled": true
   },
   "outputs": [
    {
     "data": {
      "text/html": [
       "<div>\n",
       "<style scoped>\n",
       "    .dataframe tbody tr th:only-of-type {\n",
       "        vertical-align: middle;\n",
       "    }\n",
       "\n",
       "    .dataframe tbody tr th {\n",
       "        vertical-align: top;\n",
       "    }\n",
       "\n",
       "    .dataframe thead th {\n",
       "        text-align: right;\n",
       "    }\n",
       "</style>\n",
       "<table border=\"1\" class=\"dataframe\">\n",
       "  <thead>\n",
       "    <tr style=\"text-align: right;\">\n",
       "      <th>repair_status</th>\n",
       "      <th>End of life</th>\n",
       "      <th>Fixed</th>\n",
       "      <th>Repairable</th>\n",
       "      <th>Unknown</th>\n",
       "      <th>fixing_rate_pc</th>\n",
       "      <th>total_items</th>\n",
       "    </tr>\n",
       "    <tr>\n",
       "      <th>brand</th>\n",
       "      <th></th>\n",
       "      <th></th>\n",
       "      <th></th>\n",
       "      <th></th>\n",
       "      <th></th>\n",
       "      <th></th>\n",
       "    </tr>\n",
       "  </thead>\n",
       "  <tbody>\n",
       "    <tr>\n",
       "      <td>APPLE</td>\n",
       "      <td>38.0</td>\n",
       "      <td>348.0</td>\n",
       "      <td>174.0</td>\n",
       "      <td>5.0</td>\n",
       "      <td>61.592920</td>\n",
       "      <td>565.0</td>\n",
       "    </tr>\n",
       "    <tr>\n",
       "      <td>UNKNOWN</td>\n",
       "      <td>66.0</td>\n",
       "      <td>169.0</td>\n",
       "      <td>106.0</td>\n",
       "      <td>3.0</td>\n",
       "      <td>49.127907</td>\n",
       "      <td>344.0</td>\n",
       "    </tr>\n",
       "    <tr>\n",
       "      <td>SAMSUNG</td>\n",
       "      <td>33.0</td>\n",
       "      <td>59.0</td>\n",
       "      <td>107.0</td>\n",
       "      <td>NaN</td>\n",
       "      <td>29.648241</td>\n",
       "      <td>199.0</td>\n",
       "    </tr>\n",
       "    <tr>\n",
       "      <td>SONY</td>\n",
       "      <td>3.0</td>\n",
       "      <td>19.0</td>\n",
       "      <td>18.0</td>\n",
       "      <td>1.0</td>\n",
       "      <td>46.341463</td>\n",
       "      <td>41.0</td>\n",
       "    </tr>\n",
       "    <tr>\n",
       "      <td>NOKIA</td>\n",
       "      <td>3.0</td>\n",
       "      <td>12.0</td>\n",
       "      <td>15.0</td>\n",
       "      <td>NaN</td>\n",
       "      <td>40.000000</td>\n",
       "      <td>30.0</td>\n",
       "    </tr>\n",
       "    <tr>\n",
       "      <td>MOTOROLA</td>\n",
       "      <td>5.0</td>\n",
       "      <td>9.0</td>\n",
       "      <td>13.0</td>\n",
       "      <td>1.0</td>\n",
       "      <td>32.142857</td>\n",
       "      <td>28.0</td>\n",
       "    </tr>\n",
       "    <tr>\n",
       "      <td>FAIRPHONE</td>\n",
       "      <td>1.0</td>\n",
       "      <td>10.0</td>\n",
       "      <td>11.0</td>\n",
       "      <td>NaN</td>\n",
       "      <td>45.454545</td>\n",
       "      <td>22.0</td>\n",
       "    </tr>\n",
       "    <tr>\n",
       "      <td>HTC</td>\n",
       "      <td>3.0</td>\n",
       "      <td>7.0</td>\n",
       "      <td>5.0</td>\n",
       "      <td>2.0</td>\n",
       "      <td>41.176471</td>\n",
       "      <td>17.0</td>\n",
       "    </tr>\n",
       "    <tr>\n",
       "      <td>HUAWEI</td>\n",
       "      <td>2.0</td>\n",
       "      <td>7.0</td>\n",
       "      <td>5.0</td>\n",
       "      <td>NaN</td>\n",
       "      <td>50.000000</td>\n",
       "      <td>14.0</td>\n",
       "    </tr>\n",
       "    <tr>\n",
       "      <td>XIAOMI</td>\n",
       "      <td>NaN</td>\n",
       "      <td>6.0</td>\n",
       "      <td>3.0</td>\n",
       "      <td>NaN</td>\n",
       "      <td>66.666667</td>\n",
       "      <td>9.0</td>\n",
       "    </tr>\n",
       "  </tbody>\n",
       "</table>\n",
       "</div>"
      ],
      "text/plain": [
       "repair_status  End of life  Fixed  Repairable  Unknown  fixing_rate_pc  \\\n",
       "brand                                                                    \n",
       "APPLE                 38.0  348.0       174.0      5.0       61.592920   \n",
       "UNKNOWN               66.0  169.0       106.0      3.0       49.127907   \n",
       "SAMSUNG               33.0   59.0       107.0      NaN       29.648241   \n",
       "SONY                   3.0   19.0        18.0      1.0       46.341463   \n",
       "NOKIA                  3.0   12.0        15.0      NaN       40.000000   \n",
       "MOTOROLA               5.0    9.0        13.0      1.0       32.142857   \n",
       "FAIRPHONE              1.0   10.0        11.0      NaN       45.454545   \n",
       "HTC                    3.0    7.0         5.0      2.0       41.176471   \n",
       "HUAWEI                 2.0    7.0         5.0      NaN       50.000000   \n",
       "XIAOMI                 NaN    6.0         3.0      NaN       66.666667   \n",
       "\n",
       "repair_status  total_items  \n",
       "brand                       \n",
       "APPLE                565.0  \n",
       "UNKNOWN              344.0  \n",
       "SAMSUNG              199.0  \n",
       "SONY                  41.0  \n",
       "NOKIA                 30.0  \n",
       "MOTOROLA              28.0  \n",
       "FAIRPHONE             22.0  \n",
       "HTC                   17.0  \n",
       "HUAWEI                14.0  \n",
       "XIAOMI                 9.0  "
      ]
     },
     "execution_count": 190,
     "metadata": {},
     "output_type": "execute_result"
    }
   ],
   "source": [
    "data_repair_tot.brand=data_repair_tot.brand.apply(str)\n",
    "data_repair_tot.brand=[i.upper() for i in data_repair_tot.brand]\n",
    "data_mobile=data_repair_tot[data_repair_tot.product_category==\"Mobile\"]\n",
    "data_mobile=data_mobile.groupby(by=[\"brand\",\"repair_status\"]).count().id\n",
    "data_mobile=data_mobile.unstack()\n",
    "data_mobile['fixing_rate_pc']=data_mobile.Fixed/data_mobile.sum(1)*100\n",
    "data_mobile['total_items']=data_mobile.iloc[:,0:4].sum(1)\n",
    "data_mobile=data_mobile[data_mobile['Fixed']>5]\n",
    "data_mobile=data_mobile.sort_values('total_items',ascending=False)\n",
    "data_mobile"
   ]
  },
  {
   "cell_type": "code",
   "execution_count": 191,
   "metadata": {
    "scrolled": false
   },
   "outputs": [
    {
     "name": "stdout",
     "output_type": "stream",
     "text": [
      "(476, 12) (565, 12)\n"
     ]
    }
   ],
   "source": [
    "data_repair_tot.model=[i.upper() if type(i)==str else i for i in data_repair_tot.model ]\n",
    "data_iPhone=data_repair_tot[data_repair_tot.model.str.contains(\"iPhone|IPHONE|iphone\")==True]\n",
    "data_mobile_Apple=data_repair_tot[data_repair_tot.brand==\"APPLE\"]\n",
    "data_mobile_Apple=data_mobile_Apple[data_mobile_Apple.product_category==\"Mobile\"]\n",
    "print(data_iPhone.shape, data_mobile_Apple.shape)\n",
    "#data_iPhone['age_when_repared']=divmod(data_iPhone.date-data_iPhone.year_of_manufacture, 86400)"
   ]
  },
  {
   "cell_type": "markdown",
   "metadata": {},
   "source": [
    "we are missing some Apple phones in the data_iPhone, let's correct"
   ]
  },
  {
   "cell_type": "code",
   "execution_count": 192,
   "metadata": {
    "scrolled": true
   },
   "outputs": [],
   "source": [
    "\n",
    "#there are 73 different names used for Apple Phones??? strange... lets do better\n",
    "#42 are \"UNKNOWN\" => lets just call them iPhone\n",
    "data_mobile_Apple['model_clean']=[\"IPHONE\" if i==\"UNKNOWN\" else i for i in data_mobile_Apple.model]\n",
    "#data_mobile_Apple['model_clean']=[\"iPhone \"+i if (\"iPhone|IPHONE|iphone\") not in i else i for i in data_mobile_Apple.model_clean]\n",
    "#there is still 73 types of iPhone listed whereas onnly 24 types have been produced\n",
    "# we can also remove all \"spaces\" between words\n",
    "# we will clean later"
   ]
  },
  {
   "cell_type": "code",
   "execution_count": 193,
   "metadata": {
    "scrolled": false
   },
   "outputs": [
    {
     "name": "stdout",
     "output_type": "stream",
     "text": [
      "3.726291436511359 1.6224290383980629\n"
     ]
    },
    {
     "data": {
      "text/plain": [
       "<matplotlib.axes._subplots.AxesSubplot at 0x1f338f0a748>"
      ]
     },
     "execution_count": 193,
     "metadata": {},
     "output_type": "execute_result"
    },
    {
     "data": {
      "image/png": "[encoded data removed]",
      "text/plain": [
       "<Figure size 432x288 with 1 Axes>"
      ]
     },
     "metadata": {
      "needs_background": "light"
     },
     "output_type": "display_data"
    },
    {
     "data": {
      "image/png": "[encoded data removed]",
      "text/plain": [
       "<Figure size 432x288 with 1 Axes>"
      ]
     },
     "metadata": {
      "needs_background": "light"
     },
     "output_type": "display_data"
    }
   ],
   "source": [
    "data_mobile_Apple['age']=(data_mobile_Apple.date-data_mobile_Apple.year_of_manufacture)\n",
    "data_mobile_Apple['age']=data_mobile_Apple['age']/np.timedelta64(1,'Y')\n",
    "data_mobile_Apple['age']=[0 if i<0 else i for i in data_mobile_Apple['age']]\n",
    "plt.figure(1)\n",
    "data_mobile_Apple['age'].hist(bins=10)\n",
    "print(data_mobile_Apple['age'].median(),data_mobile_Apple['age'].std())\n",
    "plt.xlabel('age [year]')\n",
    "plt.title('distribution of age of -to be repaired- Apple phones')\n",
    "data_mobile_Apple['age'].isnull().sum()\n",
    "data_mobile_Apple['Year_return']=[i.year for i in data_mobile_Apple.date]\n",
    "data_mobile_Apple['Year_return'].head()\n",
    "plt.figure(2)\n",
    "sns.boxplot(x='Year_return', y='age', hue= 'repair_status',data= data_mobile_Apple)"
   ]
  },
  {
   "cell_type": "code",
   "execution_count": 194,
   "metadata": {},
   "outputs": [
    {
     "name": "stdout",
     "output_type": "stream",
     "text": [
      "(199, 12)\n"
     ]
    }
   ],
   "source": [
    "data_mobile_samsung=data_repair_tot[data_repair_tot.brand==\"SAMSUNG\"]\n",
    "data_mobile_samsung=data_mobile_samsung[data_mobile_samsung.product_category==\"Mobile\"]\n",
    "print(data_mobile_samsung.shape)"
   ]
  },
  {
   "cell_type": "code",
   "execution_count": 195,
   "metadata": {},
   "outputs": [
    {
     "name": "stdout",
     "output_type": "stream",
     "text": [
      "3.8919348104341633 1.3108287981106639\n"
     ]
    },
    {
     "data": {
      "text/plain": [
       "<matplotlib.axes._subplots.AxesSubplot at 0x1f33a2758d0>"
      ]
     },
     "execution_count": 195,
     "metadata": {},
     "output_type": "execute_result"
    },
    {
     "data": {
      "image/png": "[encoded data removed]",
      "text/plain": [
       "<Figure size 432x288 with 1 Axes>"
      ]
     },
     "metadata": {
      "needs_background": "light"
     },
     "output_type": "display_data"
    },
    {
     "data": {
      "image/png": "[encoded data removed]",
      "text/plain": [
       "<Figure size 432x288 with 1 Axes>"
      ]
     },
     "metadata": {
      "needs_background": "light"
     },
     "output_type": "display_data"
    }
   ],
   "source": [
    "data_mobile_samsung['age']=(data_mobile_samsung.date-data_mobile_samsung.year_of_manufacture)\n",
    "data_mobile_samsung['age']=data_mobile_samsung['age']/np.timedelta64(1,'Y')\n",
    "data_mobile_samsung['age']=[0 if i<0 else i for i in data_mobile_samsung['age']]\n",
    "plt.figure(1)\n",
    "data_mobile_samsung['age'].hist(bins=10)\n",
    "print(data_mobile_samsung['age'].median(),data_mobile_samsung['age'].std())\n",
    "plt.xlabel('age [year]')\n",
    "plt.title('distribution of age of -to be repaired- Samsung phones')\n",
    "data_mobile_samsung['age'].isnull().sum()\n",
    "data_mobile_samsung['Year_return']=[i.year for i in data_mobile_samsung.date]\n",
    "data_mobile_samsung['Year_return'].head()\n",
    "plt.figure(2)\n",
    "sns.boxplot(x='Year_return', y='age', hue= 'repair_status',data= data_mobile_samsung)"
   ]
  },
  {
   "cell_type": "markdown",
   "metadata": {},
   "source": [
    "** focus on laptop **"
   ]
  },
  {
   "cell_type": "code",
   "execution_count": 196,
   "metadata": {},
   "outputs": [
    {
     "name": "stdout",
     "output_type": "stream",
     "text": [
      "4.397078653223543\n"
     ]
    },
    {
     "name": "stderr",
     "output_type": "stream",
     "text": [
      "C:\\Users\\jeanm\\Anaconda3\\envs\\test\\lib\\site-packages\\ipykernel_launcher.py:2: SettingWithCopyWarning: \n",
      "A value is trying to be set on a copy of a slice from a DataFrame.\n",
      "Try using .loc[row_indexer,col_indexer] = value instead\n",
      "\n",
      "See the caveats in the documentation: http://pandas.pydata.org/pandas-docs/stable/user_guide/indexing.html#returning-a-view-versus-a-copy\n",
      "  \n",
      "C:\\Users\\jeanm\\Anaconda3\\envs\\test\\lib\\site-packages\\ipykernel_launcher.py:3: SettingWithCopyWarning: \n",
      "A value is trying to be set on a copy of a slice from a DataFrame.\n",
      "Try using .loc[row_indexer,col_indexer] = value instead\n",
      "\n",
      "See the caveats in the documentation: http://pandas.pydata.org/pandas-docs/stable/user_guide/indexing.html#returning-a-view-versus-a-copy\n",
      "  This is separate from the ipykernel package so we can avoid doing imports until\n"
     ]
    },
    {
     "data": {
      "text/plain": [
       "Text(0, 0.5, 'number of repairs')"
      ]
     },
     "execution_count": 196,
     "metadata": {},
     "output_type": "execute_result"
    },
    {
     "data": {
      "image/png": "[encoded data removed]",
      "text/plain": [
       "<Figure size 432x288 with 1 Axes>"
      ]
     },
     "metadata": {
      "needs_background": "light"
     },
     "output_type": "display_data"
    },
    {
     "data": {
      "image/png": "[encoded data removed]",
      "text/plain": [
       "<Figure size 432x288 with 1 Axes>"
      ]
     },
     "metadata": {
      "needs_background": "light"
     },
     "output_type": "display_data"
    },
    {
     "data": {
      "image/png": "[encoded data removed]",
      "text/plain": [
       "<Figure size 432x288 with 1 Axes>"
      ]
     },
     "metadata": {
      "needs_background": "light"
     },
     "output_type": "display_data"
    }
   ],
   "source": [
    "data_laptop=data_repair_tot[data_repair_tot.product_category==\"Laptop\"]\n",
    "data_laptop['age']=(data_laptop.date-data_laptop.year_of_manufacture)\n",
    "data_laptop['age']=data_laptop['age']/np.timedelta64(1,'Y')\n",
    "print(data_laptop['age'].median())\n",
    "mean_age=data_laptop.groupby(by='brand').median().age\n",
    "mean_age=round(mean_age,1)\n",
    "data_laptop=data_laptop.groupby(by=[\"brand\",\"repair_status\"]).count().id\n",
    "data_laptop=data_laptop.unstack()\n",
    "data_laptop['fixing_rate_pc']=data_laptop.Fixed/data_laptop.sum(1)*100\n",
    "data_laptop['total_items']=round(data_laptop.iloc[:,0:4].sum(1))\n",
    "data_laptop['mean_age']=mean_age\n",
    "data_laptop=data_laptop[data_laptop['Fixed']>5]\n",
    "data_laptop=data_laptop.sort_values('mean_age',ascending=False)\n",
    "data_laptop=data_laptop.reset_index()\n",
    "#print(data_laptop)\n",
    "g=sns.barplot(x='brand',y='mean_age', data=data_laptop[0:9])\n",
    "g.set_xticklabels(data_laptop.brand,rotation=45)\n",
    "g.set_ylabel('mean_age [years]')\n",
    "plt.figure(2)\n",
    "plt.scatter(data_laptop['mean_age'],data_laptop['fixing_rate_pc'])\n",
    "data_laptop=data_laptop.sort_values('total_items',ascending=False)\n",
    "plt.figure(3)\n",
    "g=sns.barplot(x='brand',y='total_items', data=data_laptop[0:9])\n",
    "g.set_xticklabels(data_laptop.brand,rotation=45)\n",
    "g.set_ylabel('number of repairs')"
   ]
  },
  {
   "cell_type": "code",
   "execution_count": 197,
   "metadata": {},
   "outputs": [
    {
     "name": "stdout",
     "output_type": "stream",
     "text": [
      "4.397078653223543 1.5908332038861601\n"
     ]
    },
    {
     "data": {
      "text/plain": [
       "<matplotlib.axes._subplots.AxesSubplot at 0x1f33d21c860>"
      ]
     },
     "execution_count": 197,
     "metadata": {},
     "output_type": "execute_result"
    },
    {
     "data": {
      "image/png": "[encoded data removed]",
      "text/plain": [
       "<Figure size 432x288 with 1 Axes>"
      ]
     },
     "metadata": {
      "needs_background": "light"
     },
     "output_type": "display_data"
    },
    {
     "data": {
      "image/png": "[encoded data removed]",
      "text/plain": [
       "<Figure size 432x288 with 1 Axes>"
      ]
     },
     "metadata": {
      "needs_background": "light"
     },
     "output_type": "display_data"
    }
   ],
   "source": [
    "data_laptop_Apple=data_repair_tot[data_repair_tot.brand==\"APPLE\"]\n",
    "data_laptop_Apple=data_laptop_Apple[data_laptop_Apple.product_category==\"Laptop\"]\n",
    "data_laptop_Apple['age']=(data_laptop_Apple.date-data_laptop_Apple.year_of_manufacture)\n",
    "data_laptop_Apple['age']=data_laptop_Apple['age']/np.timedelta64(1,'Y')\n",
    "data_laptop_Apple['age']=[0 if i<0 else i for i in data_laptop_Apple['age']]\n",
    "plt.figure(1)\n",
    "data_laptop_Apple['age'].hist(bins=10)\n",
    "print(data_laptop_Apple['age'].median(),data_laptop_Apple['age'].std())\n",
    "plt.xlabel('age [year]')\n",
    "plt.title('distribution of age of -to be repaired- Apple Laptops')\n",
    "data_laptop_Apple['age'].isnull().sum()\n",
    "data_laptop_Apple['Year_return']=[i.year for i in data_laptop_Apple.date]\n",
    "data_laptop_Apple['Year_return'].head()\n",
    "plt.figure(2)\n",
    "sns.boxplot(x='Year_return', y='age', hue= 'repair_status',data= data_laptop_Apple)"
   ]
  },
  {
   "cell_type": "code",
   "execution_count": 198,
   "metadata": {
    "scrolled": false
   },
   "outputs": [
    {
     "data": {
      "text/plain": [
       "Text(0.5, 1.0, 'a linear increase of Mobile repairs')"
      ]
     },
     "execution_count": 198,
     "metadata": {},
     "output_type": "execute_result"
    },
    {
     "data": {
      "image/png": "[encoded data removed]",
      "text/plain": [
       "<Figure size 432x288 with 1 Axes>"
      ]
     },
     "metadata": {
      "needs_background": "light"
     },
     "output_type": "display_data"
    }
   ],
   "source": [
    "data_repair_tot=pd.read_csv(r\"C:\\Users\\jeanm\\Anaconda3\\envs\\test\\books\\OpenRepair\\ORDS_trp-fc-a.csv\")\n",
    "data_repair_tot.date=data_repair_tot.date.replace([\"REMAKE\",\"Fixit Clinic\"],\"1900-01-01\")\n",
    "data_repair_tot.date=[datetime.strptime(i,'%Y-%m-%d') for i in data_repair_tot.date]\n",
    "data_repair_tot.brand=data_repair_tot.brand.apply(str)\n",
    "data_repair_tot.brand=[i.upper() for i in data_repair_tot.brand]\n",
    "#show the growth of repairs global\n",
    "data_repair_tot['Year']=[i.year for i in data_repair_tot.date]\n",
    "data_repair_tot=data_repair_tot[data_repair_tot.product_category=='Mobile']\n",
    "data_year=data_repair_tot.groupby(by='Year').count().reset_index()\n",
    "#print(data_year)\n",
    "plt.plot(data_year['Year'].iloc[1:],data_year['id'].iloc[1:])\n",
    "plt.xlabel('year')\n",
    "plt.ylabel('total number of Mobile repairs')\n",
    "plt.title('a linear increase of Mobile repairs')"
   ]
  },
  {
   "cell_type": "code",
   "execution_count": 199,
   "metadata": {
    "scrolled": true
   },
   "outputs": [
    {
     "name": "stdout",
     "output_type": "stream",
     "text": [
      "(0, 12)\n"
     ]
    },
    {
     "ename": "TypeError",
     "evalue": "ufunc subtract cannot use operands with types dtype('<M8[ns]') and dtype('O')",
     "output_type": "error",
     "traceback": [
      "\u001b[1;31m---------------------------------------------------------------------------\u001b[0m",
      "\u001b[1;31mTypeError\u001b[0m                                 Traceback (most recent call last)",
      "\u001b[1;32m<ipython-input-199-73189ef9f21d>\u001b[0m in \u001b[0;36m<module>\u001b[1;34m\u001b[0m\n\u001b[0;32m      6\u001b[0m \u001b[1;31m#data_repair_tot_Laptop=data_repair_tot_Laptop[data_repair_tot_Laptop.repair_status==('Repairable')]\u001b[0m\u001b[1;33m\u001b[0m\u001b[1;33m\u001b[0m\u001b[1;33m\u001b[0m\u001b[0m\n\u001b[0;32m      7\u001b[0m \u001b[0mprint\u001b[0m\u001b[1;33m(\u001b[0m\u001b[0mdata_repair_tot_Laptop\u001b[0m\u001b[1;33m.\u001b[0m\u001b[0mshape\u001b[0m\u001b[1;33m)\u001b[0m\u001b[1;33m\u001b[0m\u001b[1;33m\u001b[0m\u001b[0m\n\u001b[1;32m----> 8\u001b[1;33m \u001b[0mdata_repair_tot_Laptop\u001b[0m\u001b[1;33m[\u001b[0m\u001b[1;34m'age'\u001b[0m\u001b[1;33m]\u001b[0m\u001b[1;33m=\u001b[0m\u001b[1;33m(\u001b[0m\u001b[0mdata_repair_tot_Laptop\u001b[0m\u001b[1;33m.\u001b[0m\u001b[0mdate\u001b[0m\u001b[1;33m-\u001b[0m\u001b[0mdata_repair_tot_Laptop\u001b[0m\u001b[1;33m.\u001b[0m\u001b[0myear_of_manufacture\u001b[0m\u001b[1;33m)\u001b[0m\u001b[1;33m\u001b[0m\u001b[1;33m\u001b[0m\u001b[0m\n\u001b[0m\u001b[0;32m      9\u001b[0m \u001b[0mdata_repair_tot_Laptop\u001b[0m\u001b[1;33m[\u001b[0m\u001b[1;34m'age'\u001b[0m\u001b[1;33m]\u001b[0m\u001b[1;33m=\u001b[0m\u001b[0mdata_repair_tot_Laptop\u001b[0m\u001b[1;33m[\u001b[0m\u001b[1;34m'age'\u001b[0m\u001b[1;33m]\u001b[0m\u001b[1;33m/\u001b[0m\u001b[0mnp\u001b[0m\u001b[1;33m.\u001b[0m\u001b[0mtimedelta64\u001b[0m\u001b[1;33m(\u001b[0m\u001b[1;36m1\u001b[0m\u001b[1;33m,\u001b[0m\u001b[1;34m'Y'\u001b[0m\u001b[1;33m)\u001b[0m\u001b[1;33m\u001b[0m\u001b[1;33m\u001b[0m\u001b[0m\n\u001b[0;32m     10\u001b[0m \u001b[0mprint\u001b[0m\u001b[1;33m(\u001b[0m\u001b[0mdata_repair_tot_Laptop\u001b[0m\u001b[1;33m.\u001b[0m\u001b[0mshape\u001b[0m\u001b[1;33m)\u001b[0m\u001b[1;33m\u001b[0m\u001b[1;33m\u001b[0m\u001b[0m\n",
      "\u001b[1;32m~\\Anaconda3\\envs\\test\\lib\\site-packages\\pandas\\core\\ops\\__init__.py\u001b[0m in \u001b[0;36mwrapper\u001b[1;34m(left, right)\u001b[0m\n\u001b[0;32m    990\u001b[0m             \u001b[1;31m# test_dt64_series_add_intlike, which the index dispatching handles\u001b[0m\u001b[1;33m\u001b[0m\u001b[1;33m\u001b[0m\u001b[1;33m\u001b[0m\u001b[0m\n\u001b[0;32m    991\u001b[0m             \u001b[1;31m# specifically.\u001b[0m\u001b[1;33m\u001b[0m\u001b[1;33m\u001b[0m\u001b[1;33m\u001b[0m\u001b[0m\n\u001b[1;32m--> 992\u001b[1;33m             \u001b[0mresult\u001b[0m \u001b[1;33m=\u001b[0m \u001b[0mdispatch_to_index_op\u001b[0m\u001b[1;33m(\u001b[0m\u001b[0mop\u001b[0m\u001b[1;33m,\u001b[0m \u001b[0mleft\u001b[0m\u001b[1;33m,\u001b[0m \u001b[0mright\u001b[0m\u001b[1;33m,\u001b[0m \u001b[0mpd\u001b[0m\u001b[1;33m.\u001b[0m\u001b[0mDatetimeIndex\u001b[0m\u001b[1;33m)\u001b[0m\u001b[1;33m\u001b[0m\u001b[1;33m\u001b[0m\u001b[0m\n\u001b[0m\u001b[0;32m    993\u001b[0m             return construct_result(\n\u001b[0;32m    994\u001b[0m                 \u001b[0mleft\u001b[0m\u001b[1;33m,\u001b[0m \u001b[0mresult\u001b[0m\u001b[1;33m,\u001b[0m \u001b[0mindex\u001b[0m\u001b[1;33m=\u001b[0m\u001b[0mleft\u001b[0m\u001b[1;33m.\u001b[0m\u001b[0mindex\u001b[0m\u001b[1;33m,\u001b[0m \u001b[0mname\u001b[0m\u001b[1;33m=\u001b[0m\u001b[0mres_name\u001b[0m\u001b[1;33m,\u001b[0m \u001b[0mdtype\u001b[0m\u001b[1;33m=\u001b[0m\u001b[0mresult\u001b[0m\u001b[1;33m.\u001b[0m\u001b[0mdtype\u001b[0m\u001b[1;33m\u001b[0m\u001b[1;33m\u001b[0m\u001b[0m\n",
      "\u001b[1;32m~\\Anaconda3\\envs\\test\\lib\\site-packages\\pandas\\core\\ops\\__init__.py\u001b[0m in \u001b[0;36mdispatch_to_index_op\u001b[1;34m(op, left, right, index_class)\u001b[0m\n\u001b[0;32m    628\u001b[0m         \u001b[0mleft_idx\u001b[0m \u001b[1;33m=\u001b[0m \u001b[0mleft_idx\u001b[0m\u001b[1;33m.\u001b[0m\u001b[0m_shallow_copy\u001b[0m\u001b[1;33m(\u001b[0m\u001b[0mfreq\u001b[0m\u001b[1;33m=\u001b[0m\u001b[1;32mNone\u001b[0m\u001b[1;33m)\u001b[0m\u001b[1;33m\u001b[0m\u001b[1;33m\u001b[0m\u001b[0m\n\u001b[0;32m    629\u001b[0m     \u001b[1;32mtry\u001b[0m\u001b[1;33m:\u001b[0m\u001b[1;33m\u001b[0m\u001b[1;33m\u001b[0m\u001b[0m\n\u001b[1;32m--> 630\u001b[1;33m         \u001b[0mresult\u001b[0m \u001b[1;33m=\u001b[0m \u001b[0mop\u001b[0m\u001b[1;33m(\u001b[0m\u001b[0mleft_idx\u001b[0m\u001b[1;33m,\u001b[0m \u001b[0mright\u001b[0m\u001b[1;33m)\u001b[0m\u001b[1;33m\u001b[0m\u001b[1;33m\u001b[0m\u001b[0m\n\u001b[0m\u001b[0;32m    631\u001b[0m     \u001b[1;32mexcept\u001b[0m \u001b[0mNullFrequencyError\u001b[0m\u001b[1;33m:\u001b[0m\u001b[1;33m\u001b[0m\u001b[1;33m\u001b[0m\u001b[0m\n\u001b[0;32m    632\u001b[0m         \u001b[1;31m# DatetimeIndex and TimedeltaIndex with freq == None raise ValueError\u001b[0m\u001b[1;33m\u001b[0m\u001b[1;33m\u001b[0m\u001b[1;33m\u001b[0m\u001b[0m\n",
      "\u001b[1;32m~\\Anaconda3\\envs\\test\\lib\\site-packages\\pandas\\core\\ops\\__init__.py\u001b[0m in \u001b[0;36mwrapper\u001b[1;34m(left, right)\u001b[0m\n\u001b[0;32m   1037\u001b[0m \u001b[1;33m\u001b[0m\u001b[0m\n\u001b[0;32m   1038\u001b[0m         \u001b[1;32melif\u001b[0m \u001b[0misinstance\u001b[0m\u001b[1;33m(\u001b[0m\u001b[0mright\u001b[0m\u001b[1;33m,\u001b[0m \u001b[1;33m(\u001b[0m\u001b[0mABCDatetimeArray\u001b[0m\u001b[1;33m,\u001b[0m \u001b[0mpd\u001b[0m\u001b[1;33m.\u001b[0m\u001b[0mDatetimeIndex\u001b[0m\u001b[1;33m)\u001b[0m\u001b[1;33m)\u001b[0m\u001b[1;33m:\u001b[0m\u001b[1;33m\u001b[0m\u001b[1;33m\u001b[0m\u001b[0m\n\u001b[1;32m-> 1039\u001b[1;33m             \u001b[0mresult\u001b[0m \u001b[1;33m=\u001b[0m \u001b[0mop\u001b[0m\u001b[1;33m(\u001b[0m\u001b[0mleft\u001b[0m\u001b[1;33m.\u001b[0m\u001b[0m_values\u001b[0m\u001b[1;33m,\u001b[0m \u001b[0mright\u001b[0m\u001b[1;33m)\u001b[0m\u001b[1;33m\u001b[0m\u001b[1;33m\u001b[0m\u001b[0m\n\u001b[0m\u001b[0;32m   1040\u001b[0m             \u001b[1;32mreturn\u001b[0m \u001b[0mconstruct_result\u001b[0m\u001b[1;33m(\u001b[0m\u001b[0mleft\u001b[0m\u001b[1;33m,\u001b[0m \u001b[0mresult\u001b[0m\u001b[1;33m,\u001b[0m \u001b[0mindex\u001b[0m\u001b[1;33m=\u001b[0m\u001b[0mleft\u001b[0m\u001b[1;33m.\u001b[0m\u001b[0mindex\u001b[0m\u001b[1;33m,\u001b[0m \u001b[0mname\u001b[0m\u001b[1;33m=\u001b[0m\u001b[0mres_name\u001b[0m\u001b[1;33m)\u001b[0m\u001b[1;33m\u001b[0m\u001b[1;33m\u001b[0m\u001b[0m\n\u001b[0;32m   1041\u001b[0m \u001b[1;33m\u001b[0m\u001b[0m\n",
      "\u001b[1;32m~\\Anaconda3\\envs\\test\\lib\\site-packages\\pandas\\core\\ops\\roperator.py\u001b[0m in \u001b[0;36mrsub\u001b[1;34m(left, right)\u001b[0m\n\u001b[0;32m     11\u001b[0m \u001b[1;33m\u001b[0m\u001b[0m\n\u001b[0;32m     12\u001b[0m \u001b[1;32mdef\u001b[0m \u001b[0mrsub\u001b[0m\u001b[1;33m(\u001b[0m\u001b[0mleft\u001b[0m\u001b[1;33m,\u001b[0m \u001b[0mright\u001b[0m\u001b[1;33m)\u001b[0m\u001b[1;33m:\u001b[0m\u001b[1;33m\u001b[0m\u001b[1;33m\u001b[0m\u001b[0m\n\u001b[1;32m---> 13\u001b[1;33m     \u001b[1;32mreturn\u001b[0m \u001b[0mright\u001b[0m \u001b[1;33m-\u001b[0m \u001b[0mleft\u001b[0m\u001b[1;33m\u001b[0m\u001b[1;33m\u001b[0m\u001b[0m\n\u001b[0m\u001b[0;32m     14\u001b[0m \u001b[1;33m\u001b[0m\u001b[0m\n\u001b[0;32m     15\u001b[0m \u001b[1;33m\u001b[0m\u001b[0m\n",
      "\u001b[1;31mTypeError\u001b[0m: ufunc subtract cannot use operands with types dtype('<M8[ns]') and dtype('O')"
     ]
    }
   ],
   "source": [
    "data_repair_tot=pd.read_csv(r\"C:\\Users\\jeanm\\Anaconda3\\envs\\test\\books\\OpenRepair\\ORDS_trp-fc-a.csv\")\n",
    "data_repair_tot.date=data_repair_tot.date.replace([\"REMAKE\",\"Fixit Clinic\"],\"1900-01-01\")\n",
    "data_repair_tot.date=[datetime.strptime(i,'%Y-%m-%d') for i in data_repair_tot.date]\n",
    "data_repair_tot_Laptop=data_repair_tot[data_repair_tot.product_category=='Laptop']\n",
    "data_repair_tot_Laptop=data_repair_tot_Laptop[data_repair_tot_Laptop.brand=='APPLE']\n",
    "#data_repair_tot_Laptop=data_repair_tot_Laptop[data_repair_tot_Laptop.repair_status==('Repairable')]\n",
    "print(data_repair_tot_Laptop.shape)\n",
    "data_repair_tot_Laptop['age']=(data_repair_tot_Laptop.date-data_repair_tot_Laptop.year_of_manufacture)\n",
    "data_repair_tot_Laptop['age']=data_repair_tot_Laptop['age']/np.timedelta64(1,'Y')\n",
    "print(data_repair_tot_Laptop.shape)\n",
    "data_Laptop_APPLE_fixed=data_repair_tot_Laptop.groupby('problem') \\\n",
    "       .agg({'problem':'count','Year':'mean','age':'mean'}) \\\n",
    "       .rename(columns={'problem':'count','Year':'mean_year','age':'mean_age'}) \\\n",
    "       .reset_index()\n",
    "data_Laptop_APPLE_fixed=data_Laptop_APPLE_fixed.sort_values('count',ascending=False)\n",
    "print(data_Laptop_APPLE_fixed[0:30])"
   ]
  },
  {
   "cell_type": "code",
   "execution_count": null,
   "metadata": {},
   "outputs": [],
   "source": [
    "data_repair_tot_Mobile=data_repair_tot[data_repair_tot.product_category=='Mobile']\n",
    "data_repair_tot_Mobile=data_repair_tot_Mobile[data_repair_tot_Mobile.brand=='APPLE']\n",
    "data_repair_tot_Mobile.problem=data_repair_tot_Mobile.problem.apply(str)\n",
    "data_repair_tot_Mobile.problem=[i.upper() for i in data_repair_tot_Mobile.problem]\n",
    "try:\n",
    "    data_repair_tot_Mobile[\"problem_screen\"]=data_repair_tot_Mobile.problem.str.contains(\"SCREEN\")\n",
    "#data_repair_tot_Mobile=data_repair_tot_Mobile[data_repair_tot_Mobile.repair_status==('Fixed')]\n",
    "    print(data_repair_tot_Mobile.shape)\n",
    "    data_Mobile_APPLE_fixed=data_repair_tot_Mobile.groupby('problem_screen').count()\n",
    "    print(data_Mobile_APPLE_fixed.id[0:10])\n",
    "except :\n",
    "    print(\"error\")"
   ]
  },
  {
   "cell_type": "code",
   "execution_count": null,
   "metadata": {
    "scrolled": true
   },
   "outputs": [],
   "source": [
    "# small kitchen items exploration\n",
    "data_repair_tot_SKI=data_repair_tot[data_repair_tot.product_category=='Small kitchen item']\n",
    "data_repair_tot_SKI_summary=data_repair_tot_SKI.groupby(by='brand').count().reset_index()\n",
    "data_repair_tot_SKI_summary=data_repair_tot_SKI_summary.sort_values(by='id',ascending=False)\n",
    "#print(data_repair_tot_toaster_summary.head())\n",
    "plt.figure(1)\n",
    "g=sns.barplot(x='brand',y='id', data=data_repair_tot_SKI_summary[1:30])\n",
    "g.set_xticklabels(data_repair_tot_SKI_summary.brand[1:30],rotation=90)\n",
    "g.set_ylabel('number of repairs')\n",
    "g.set_title(\"number of repairs of small kitchen items\")\n",
    "data_repair_tot_SKI_KW=data_repair_tot_SKI[data_repair_tot_SKI.brand=='Kenwood']\n",
    "#print(data_repair_tot_SKI_KW.groupby(by='model').count())"
   ]
  },
  {
   "cell_type": "code",
   "execution_count": null,
   "metadata": {},
   "outputs": [],
   "source": []
  }
 ],
 "metadata": {
  "kernelspec": {
   "display_name": "Python 3",
   "language": "python",
   "name": "python3"
  },
  "language_info": {
   "codemirror_mode": {
    "name": "ipython",
    "version": 3
   },
   "file_extension": ".py",
   "mimetype": "text/x-python",
   "name": "python",
   "nbconvert_exporter": "python",
   "pygments_lexer": "ipython3",
   "version": "3.6.9"
  }
 },
 "nbformat": 4,
 "nbformat_minor": 2
}
