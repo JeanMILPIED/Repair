{
 "cells": [
  {
   "cell_type": "code",
   "execution_count": 1,
   "metadata": {},
   "outputs": [],
   "source": [
    "\n",
    "# import key libraries\n",
    "import numpy as np\n",
    "import pandas as pd\n",
    "import matplotlib.pyplot as plt\n",
    "import seaborn as sns"
   ]
  },
  {
   "cell_type": "code",
   "execution_count": 2,
   "metadata": {},
   "outputs": [],
   "source": [
    "#! cd \"C:\\Users\\jeanm\\Anaconda3\\envs\\test\\books\\Repair_Cafe_Sept_2019\"\n",
    "# load the Repair_cafe data set into data_set_final database object\n",
    "data_set_ORC = pd.ExcelFile(r\"C:\\Users\\jeanm\\Anaconda3\\envs\\test\\books\\Repair_Cafe_Sept_2019\\data_set.xlsx\")\n",
    "data_set_final=data_set_ORC.parse(\"Sheet1\")"
   ]
  },
  {
   "cell_type": "code",
   "execution_count": 3,
   "metadata": {},
   "outputs": [
    {
     "name": "stdout",
     "output_type": "stream",
     "text": [
      "(19095, 17)\n"
     ]
    },
    {
     "data": {
      "text/plain": [
       "(19049, 17)"
      ]
     },
     "execution_count": 3,
     "metadata": {},
     "output_type": "execute_result"
    }
   ],
   "source": [
    "# look at the data set\n",
    "print(data_set_final.shape)\n",
    "# remove the null items\n",
    "data_set_final_2=data_set_final[data_set_final.iloc[:,1].isnull()!=True]\n",
    "data_set_final_2.shape"
   ]
  },
  {
   "cell_type": "code",
   "execution_count": 4,
   "metadata": {},
   "outputs": [
    {
     "name": "stdout",
     "output_type": "stream",
     "text": [
      "Index(['Registration number', 'Kind of product', 'Category', 'Brand',\n",
      "       'Build year (estimated)', 'Model, type or serial number',\n",
      "       'Fault + probable cause', 'Defect found', 'Repaired: yes/half/no',\n",
      "       'If yes: what did you do to repair it?',\n",
      "       'If half: what did you do, which advice did you give?',\n",
      "       'If no: why could you not repair it?',\n",
      "       'Reparability score (1=difficult, 10=easy)',\n",
      "       'Was repair information available?',\n",
      "       'If yes: where did it come from, manufacturer or made by users?',\n",
      "       'Source of repair information?', 'Hint'],\n",
      "      dtype='object')\n"
     ]
    }
   ],
   "source": [
    "# define the columns heads by the first line\n",
    "data_set_header= data_set_final_2.columns\n",
    "print(data_set_header)"
   ]
  },
  {
   "cell_type": "code",
   "execution_count": 5,
   "metadata": {
    "scrolled": false
   },
   "outputs": [
    {
     "data": {
      "text/plain": [
       "Kind of product\n",
       "Coffee maker      1535\n",
       "Trousers/pants    1078\n",
       "Bicycle           1046\n",
       "Vacuum cleaner    1027\n",
       "Lamp/lighting      902\n",
       "Name: Registration number, dtype: int64"
      ]
     },
     "execution_count": 5,
     "metadata": {},
     "output_type": "execute_result"
    }
   ],
   "source": [
    "#exploration1: PRODUCT Kind of Product\n",
    "data_set_final_2.groupby(by=\"Kind of product\").count().iloc[:,0].sort_values(ascending = False).head(5)"
   ]
  },
  {
   "cell_type": "code",
   "execution_count": 6,
   "metadata": {},
   "outputs": [],
   "source": [
    "#there are 638 different types of products\n",
    "# the 5 most repaired product Category are Coffee Maker, Trousers/pants, Bicycle, Vacuum cleaner and Lamp/lighting"
   ]
  },
  {
   "cell_type": "code",
   "execution_count": 7,
   "metadata": {
    "scrolled": false
   },
   "outputs": [
    {
     "data": {
      "text/plain": [
       "Category\n",
       "Household appliances electric        7123\n",
       "Textile                              2686\n",
       "Display and sound equipment          2601\n",
       "Other                                1743\n",
       "Computers/phones                     1307\n",
       "Bicycles                             1296\n",
       "Tools electric                        895\n",
       "Household appliances non-electric     532\n",
       "Tools non-electric                    329\n",
       "Toys electric                         235\n",
       "Furniture                             197\n",
       "Toys non-electric                     104\n",
       "Category                                1\n",
       "Name: Registration number, dtype: int64"
      ]
     },
     "execution_count": 7,
     "metadata": {},
     "output_type": "execute_result"
    }
   ],
   "source": [
    "#exploration2: PRODUCT Category\n",
    "data_set_final_2.groupby(by=\"Category\").count().iloc[:,0].sort_values(ascending = False)"
   ]
  },
  {
   "cell_type": "code",
   "execution_count": 8,
   "metadata": {},
   "outputs": [],
   "source": [
    "# there are 10 categories of products\n",
    "# the 5 most repaired ones are \"Household appliances electric\", \"Textile\", \"Display and SOund Equipment\", \"Other\", and \"Computers/phones\""
   ]
  },
  {
   "cell_type": "code",
   "execution_count": 9,
   "metadata": {
    "scrolled": true
   },
   "outputs": [
    {
     "name": "stdout",
     "output_type": "stream",
     "text": [
      "2003\n"
     ]
    },
    {
     "data": {
      "text/plain": [
       "Brand\n",
       "Unknown/n.a.    7393\n",
       "Philips         1962\n",
       "Sony             363\n",
       "Bosch            319\n",
       "Tefal            265\n",
       "Samsung          239\n",
       "Name: Registration number, dtype: int64"
      ]
     },
     "execution_count": 9,
     "metadata": {},
     "output_type": "execute_result"
    }
   ],
   "source": [
    "#exploration3: BRANDS\n",
    "print(data_set_final_2.groupby(by=\"Brand\").count().iloc[:,0].sort_values(ascending = False).size)\n",
    "data_set_final_2.groupby(by=\"Brand\").count().iloc[:,0].sort_values(ascending = False).head(6)"
   ]
  },
  {
   "cell_type": "code",
   "execution_count": 10,
   "metadata": {},
   "outputs": [],
   "source": [
    "# amongst the 2003 brands registered the 5 most repaired are Philips, Sony, Bosch Tefal and Samsung"
   ]
  },
  {
   "cell_type": "code",
   "execution_count": 11,
   "metadata": {},
   "outputs": [
    {
     "data": {
      "text/plain": [
       "Repaired: yes/half/no\n",
       "yes     64.712058\n",
       "no      22.919838\n",
       "half    12.347105\n",
       "Name: Registration number, dtype: float64"
      ]
     },
     "execution_count": 11,
     "metadata": {},
     "output_type": "execute_result"
    }
   ],
   "source": [
    "# exploration4: REPAIR SUCCESS\n",
    "data_set_final_2.groupby(by=\"Repaired: yes/half/no\").count().iloc[:,0].sort_values(ascending=False)[0:3]/data_set_final_2.shape[0]*100"
   ]
  },
  {
   "cell_type": "code",
   "execution_count": 12,
   "metadata": {},
   "outputs": [],
   "source": [
    "#64% of all products have been considered as repaired, 23% have not been successfully repaired, 12% have been \"half\" repaired"
   ]
  },
  {
   "cell_type": "code",
   "execution_count": 13,
   "metadata": {
    "scrolled": true
   },
   "outputs": [
    {
     "name": "stdout",
     "output_type": "stream",
     "text": [
      "(40, 5)\n",
      "Repaired: yes/half/no   half      no     yes   total  percent repaired\n",
      "Brand                                                                 \n",
      "Batavus                  5.0     5.0    90.0   100.0         90.000000\n",
      "Giant                    NaN     7.0    61.0    68.0         89.705882\n",
      "Gazelle                  8.0    10.0   149.0   167.0         89.221557\n",
      "Unknown/n.a.           585.0  1027.0  5780.0  7392.0         78.192641\n",
      "Pfaff                    9.0     8.0    52.0    69.0         75.362319\n",
      "Sparta                   4.0    10.0    42.0    56.0         75.000000\n",
      "Singer                  14.0    17.0    77.0   108.0         71.296296\n",
      "Bestron                  5.0    13.0    38.0    56.0         67.857143\n",
      "Miele                   17.0    67.0   148.0   232.0         63.793103\n",
      "Philips                231.0   555.0  1175.0  1961.0         59.918409\n",
      "Hema                     5.0    18.0    34.0    57.0         59.649123\n",
      "Princess                 8.0    31.0    57.0    96.0         59.375000\n",
      "DeLonghi                15.0    21.0    49.0    85.0         57.647059\n",
      "Dyson                   11.0    18.0    39.0    68.0         57.352941\n",
      "Bosch                   42.0    96.0   181.0   319.0         56.739812\n",
      "AEG                     16.0    35.0    66.0   117.0         56.410256\n",
      "Krups                   13.0    39.0    60.0   112.0         53.571429\n",
      "Silvercrest              5.0    30.0    40.0    75.0         53.333333\n",
      "Nespresso               21.0    51.0    82.0   154.0         53.246753\n",
      "Siemens                 25.0    48.0    79.0   152.0         51.973684\n",
      "Acer                    23.0    18.0    44.0    85.0         51.764706\n",
      "Magimix                 13.0    16.0    30.0    59.0         50.847458\n",
      "Grundig                  8.0    19.0    26.0    53.0         49.056604\n",
      "Tefal                   36.0   100.0   129.0   265.0         48.679245\n",
      "Pioneer                 12.0    19.0    29.0    60.0         48.333333\n",
      "Tomado                  13.0    45.0    52.0   110.0         47.272727\n",
      "Akai                     8.0    19.0    24.0    51.0         47.058824\n",
      "Black & Decker          31.0    52.0    70.0   153.0         45.751634\n",
      "Apple                   36.0    18.0    44.0    98.0         44.897959\n",
      "Panasonic               17.0    36.0    41.0    94.0         43.617021\n",
      "HP                      51.0    59.0    83.0   193.0         43.005181\n",
      "Braun                   26.0    69.0    71.0   166.0         42.771084\n",
      "Denon                   15.0    15.0    22.0    52.0         42.307692\n",
      "Samsung                 61.0    78.0   100.0   239.0         41.841004\n",
      "Sony                    83.0   130.0   150.0   363.0         41.322314\n",
      "K√§rcher                15.0    29.0    30.0    74.0         40.540541\n",
      "Kenwood                 11.0    21.0    20.0    52.0         38.461538\n",
      "JVC                      9.0    41.0    28.0    78.0         35.897436\n",
      "LG                      15.0    31.0    21.0    67.0         31.343284\n",
      "Canon                   20.0    52.0    25.0    97.0         25.773196\n"
     ]
    }
   ],
   "source": [
    "# what are the brands with the highest repair success?\n",
    "data_repair_success=data_set_final_2.groupby(by=[\"Brand\",\"Repaired: yes/half/no\"]).count().iloc[:,0].sort_values(ascending=False).reset_index()\n",
    "data_repair_success=data_repair_success.pivot(values=\"Registration number\", columns=\"Repaired: yes/half/no\", index=\"Brand\")\n",
    "data_repair_success[\"total\"]=data_repair_success.sum(axis=1)\n",
    "data_repair_success = data_repair_success.sort_values(by = \"total\", ascending = False)\n",
    "#we drop the data repaired was stated ja or Repaired\n",
    "data_repair_success= data_repair_success.drop(columns = [\"ja\",\"Repaired\"], axis=0)\n",
    "# we compute the percent or repair\n",
    "data_repair_success[\"percent repaired\"]=data_repair_success[\"yes\"]/data_repair_success[\"total\"]*100\n",
    "#we remove the brands with less than 10 products repaired\n",
    "data_repair_success=data_repair_success[data_repair_success[\"total\"]>50]\n",
    "print(data_repair_success.shape)\n",
    "# 10 brands the most repairable\n",
    "data_repair_success_best=data_repair_success.sort_values(by=[\"percent repaired\"], ascending=False)\n",
    "print(data_repair_success_best)"
   ]
  },
  {
   "cell_type": "code",
   "execution_count": 14,
   "metadata": {
    "scrolled": true
   },
   "outputs": [
    {
     "name": "stdout",
     "output_type": "stream",
     "text": [
      "(42, 5)\n",
      "Repaired: yes/half/no            half     no     yes   total  percent repaired\n",
      "Kind of product                                                               \n",
      "Knife/knives/scissors             3.0    2.0   269.0   274.0         98.175182\n",
      "Shirt                             NaN    2.0   100.0   102.0         98.039216\n",
      "Trousers/pants                   14.0   17.0  1047.0  1078.0         97.124304\n",
      "Pruning shears / Garden shears    2.0    5.0   136.0   143.0         95.104895\n",
      "Sweater                           2.0    2.0    97.0   102.0         95.098039\n",
      "Blouse                            2.0    4.0   108.0   114.0         94.736842\n",
      "Dress                             5.0    2.0   122.0   129.0         94.573643\n",
      "Coat                             12.0   13.0   310.0   335.0         92.537313\n",
      "Bicycle lighting                  3.0    6.0    92.0   101.0         91.089109\n",
      "Bag                               5.0    7.0    99.0   111.0         89.189189\n",
      "Bicycle                          47.0   78.0   921.0  1046.0         88.049713\n",
      "Hedge shear                      10.0   15.0   105.0   130.0         80.769231\n",
      "Sewing machine                   53.0   72.0   374.0   499.0         74.949900\n",
      "Wrist watch                      10.0   20.0    79.0   109.0         72.477064\n",
      "Other                            51.0   71.0   299.0   421.0         71.021378\n",
      "Lamp/lighting                   154.0  128.0   620.0   902.0         68.736142\n",
      "Hair dryer                        6.0   32.0    72.0   110.0         65.454545\n",
      "Vacuum cleaner                  107.0  251.0   669.0  1027.0         65.141188\n",
      "Clock                            57.0  102.0   294.0   453.0         64.900662\n",
      "Toy                              16.0   44.0   101.0   161.0         62.732919\n",
      "Coffee maker                    211.0  407.0   917.0  1535.0         59.739414\n",
      "Radio                            51.0   88.0   179.0   318.0         56.289308\n",
      "Fan                              10.0   46.0    71.0   127.0         55.905512\n",
      "Speaker                          27.0   25.0    62.0   114.0         54.385965\n",
      "Turntable                        30.0   23.0    57.0   110.0         51.818182\n",
      "Toaster                          19.0   58.0    81.0   158.0         51.265823\n",
      "Amplifier                        31.0   23.0    56.0   110.0         50.909091\n",
      "Laptop                          120.0   66.0   188.0   374.0         50.267380\n",
      "DVD player/recorder              21.0   64.0    85.0   170.0         50.000000\n",
      "Food processor                   18.0   44.0    60.0   122.0         49.180328\n",
      "Iron                             45.0  144.0   177.0   366.0         48.360656\n",
      "Mixer/blender                    18.0   80.0    87.0   185.0         47.027027\n",
      "Drilling machine                 34.0   68.0    86.0   188.0         45.744681\n",
      "Computer                         21.0   40.0    50.0   111.0         45.045045\n",
      "CD player/recorder               44.0   89.0   107.0   240.0         44.583333\n",
      "Stereoset                        24.0   62.0    65.0   151.0         43.046358\n",
      "Electric kettle                  23.0  153.0   133.0   309.0         43.042071\n",
      "Tablet                           45.0   34.0    59.0   138.0         42.753623\n",
      "Radio/CD player                  22.0   65.0    63.0   150.0         42.000000\n",
      "Printer                          65.0  109.0   100.0   274.0         36.496350\n",
      "Handheld vacuum cleaner          29.0   51.0    36.0   116.0         31.034483\n",
      "Television                       40.0  107.0    55.0   202.0         27.227723\n"
     ]
    }
   ],
   "source": [
    "# what are the kind of products with the highest repair success?\n",
    "data_repair_success_kop=data_set_final_2.groupby(by=[\"Kind of product\",\"Repaired: yes/half/no\"]).count().iloc[:,0].sort_values(ascending=False).reset_index()\n",
    "data_repair_success_kop=data_repair_success_kop.pivot(values=\"Registration number\", columns=\"Repaired: yes/half/no\", index=\"Kind of product\")\n",
    "data_repair_success_kop[\"total\"]=data_repair_success_kop.sum(axis=1)\n",
    "data_repair_success_kop = data_repair_success_kop.sort_values(by = \"total\", ascending = False)\n",
    "#we drop the data repaired was stated ja or Repaired\n",
    "data_repair_success_kop= data_repair_success_kop.drop(columns = [\"ja\",\"Repaired\"], axis=0)\n",
    "# we compute the percent or repair\n",
    "data_repair_success_kop[\"percent repaired\"]=data_repair_success_kop[\"yes\"]/data_repair_success_kop[\"total\"]*100\n",
    "#we remove the product types with less than 10 products repaired\n",
    "data_repair_success_kop=data_repair_success_kop[data_repair_success_kop[\"total\"]>100]\n",
    "print(data_repair_success_kop.shape)\n",
    "# product types per repair rate\n",
    "data_repair_success_kop=data_repair_success_kop.sort_values(by=[\"percent repaired\"], ascending=False)\n",
    "print(data_repair_success_kop)"
   ]
  },
  {
   "cell_type": "code",
   "execution_count": 15,
   "metadata": {
    "scrolled": false
   },
   "outputs": [
    {
     "name": "stdout",
     "output_type": "stream",
     "text": [
      "(13, 5)\n",
      "Repaired: yes/half/no               half      no     yes   total  \\\n",
      "Category                                                           \n",
      "Textile                             61.0    75.0  2549.0  2686.0   \n",
      "Tools non-electric                  14.0    16.0   299.0   329.0   \n",
      "Bicycles                            65.0   107.0  1124.0  1296.0   \n",
      "Household appliances non-electric   52.0    79.0   401.0   532.0   \n",
      "Furniture                           30.0    21.0   146.0   197.0   \n",
      "Other                              183.0   332.0  1227.0  1742.0   \n",
      "Toys non-electric                   12.0    24.0    68.0   104.0   \n",
      "Household appliances electric      928.0  2090.0  4105.0  7123.0   \n",
      "Toys electric                       33.0    73.0   129.0   235.0   \n",
      "Tools electric                     123.0   288.0   484.0   895.0   \n",
      "Computers/phones                   352.0   353.0   602.0  1307.0   \n",
      "Display and sound equipment        499.0   908.0  1193.0  2600.0   \n",
      "Category                             NaN     NaN     NaN     1.0   \n",
      "\n",
      "Repaired: yes/half/no              percent repaired  \n",
      "Category                                             \n",
      "Textile                                   94.899479  \n",
      "Tools non-electric                        90.881459  \n",
      "Bicycles                                  86.728395  \n",
      "Household appliances non-electric         75.375940  \n",
      "Furniture                                 74.111675  \n",
      "Other                                     70.436280  \n",
      "Toys non-electric                         65.384615  \n",
      "Household appliances electric             57.630212  \n",
      "Toys electric                             54.893617  \n",
      "Tools electric                            54.078212  \n",
      "Computers/phones                          46.059679  \n",
      "Display and sound equipment               45.884615  \n",
      "Category                                        NaN  \n"
     ]
    }
   ],
   "source": [
    "# what are the product Category with the highest repair success?\n",
    "data_repair_success_C=data_set_final_2.groupby(by=[\"Category\",\"Repaired: yes/half/no\"]).count().iloc[:,0].sort_values(ascending=False).reset_index()\n",
    "data_repair_success_C=data_repair_success_C.pivot(values=\"Registration number\", columns=\"Repaired: yes/half/no\", index=\"Category\")\n",
    "data_repair_success_C[\"total\"]=data_repair_success_C.sum(axis=1)\n",
    "data_repair_success_C = data_repair_success_C.sort_values(by = \"total\", ascending = False)\n",
    "#we drop the data repaired was stated ja or Repaired\n",
    "data_repair_success_C= data_repair_success_C.drop(columns = [\"ja\",\"Repaired\"], axis=0)\n",
    "# we compute the percent or repair\n",
    "data_repair_success_C[\"percent repaired\"]=data_repair_success_C[\"yes\"]/data_repair_success_C[\"total\"]*100\n",
    "print(data_repair_success_C.shape)\n",
    "# sort by repair rate\n",
    "data_repair_success_C=data_repair_success_C.sort_values(by=[\"percent repaired\"], ascending=False)\n",
    "print(data_repair_success_C)"
   ]
  },
  {
   "cell_type": "code",
   "execution_count": 16,
   "metadata": {},
   "outputs": [],
   "source": [
    "# one can notice the impact of \"being electric\" on the reparability of a product category. \n",
    "# can this be linked to the age (i.e. non electric stuff are older...)"
   ]
  },
  {
   "cell_type": "code",
   "execution_count": 17,
   "metadata": {
    "scrolled": true
   },
   "outputs": [
    {
     "name": "stderr",
     "output_type": "stream",
     "text": [
      "C:\\Users\\jeanm\\Anaconda3\\envs\\test\\lib\\site-packages\\pandas\\core\\indexing.py:376: SettingWithCopyWarning: \n",
      "A value is trying to be set on a copy of a slice from a DataFrame.\n",
      "Try using .loc[row_indexer,col_indexer] = value instead\n",
      "\n",
      "See the caveats in the documentation: http://pandas.pydata.org/pandas-docs/stable/user_guide/indexing.html#returning-a-view-versus-a-copy\n",
      "  self.obj[key] = _infer_fill_value(value)\n",
      "C:\\Users\\jeanm\\Anaconda3\\envs\\test\\lib\\site-packages\\pandas\\core\\indexing.py:494: SettingWithCopyWarning: \n",
      "A value is trying to be set on a copy of a slice from a DataFrame.\n",
      "Try using .loc[row_indexer,col_indexer] = value instead\n",
      "\n",
      "See the caveats in the documentation: http://pandas.pydata.org/pandas-docs/stable/user_guide/indexing.html#returning-a-view-versus-a-copy\n",
      "  self.obj[item] = s\n"
     ]
    },
    {
     "data": {
      "text/html": [
       "<div>\n",
       "<style scoped>\n",
       "    .dataframe tbody tr th:only-of-type {\n",
       "        vertical-align: middle;\n",
       "    }\n",
       "\n",
       "    .dataframe tbody tr th {\n",
       "        vertical-align: top;\n",
       "    }\n",
       "\n",
       "    .dataframe thead th {\n",
       "        text-align: right;\n",
       "    }\n",
       "</style>\n",
       "<table border=\"1\" class=\"dataframe\">\n",
       "  <thead>\n",
       "    <tr style=\"text-align: right;\">\n",
       "      <th></th>\n",
       "      <th>my_build_year</th>\n",
       "    </tr>\n",
       "    <tr>\n",
       "      <th>Category</th>\n",
       "      <th></th>\n",
       "    </tr>\n",
       "  </thead>\n",
       "  <tbody>\n",
       "    <tr>\n",
       "      <td>Bicycles</td>\n",
       "      <td>2005.9</td>\n",
       "    </tr>\n",
       "    <tr>\n",
       "      <td>Category</td>\n",
       "      <td>NaN</td>\n",
       "    </tr>\n",
       "    <tr>\n",
       "      <td>Computers/phones</td>\n",
       "      <td>2010.4</td>\n",
       "    </tr>\n",
       "    <tr>\n",
       "      <td>Display and sound equipment</td>\n",
       "      <td>2001.3</td>\n",
       "    </tr>\n",
       "    <tr>\n",
       "      <td>Furniture</td>\n",
       "      <td>1993.1</td>\n",
       "    </tr>\n",
       "    <tr>\n",
       "      <td>Household appliances electric</td>\n",
       "      <td>2006.6</td>\n",
       "    </tr>\n",
       "    <tr>\n",
       "      <td>Household appliances non-electric</td>\n",
       "      <td>1994.0</td>\n",
       "    </tr>\n",
       "    <tr>\n",
       "      <td>Other</td>\n",
       "      <td>1999.2</td>\n",
       "    </tr>\n",
       "    <tr>\n",
       "      <td>Textile</td>\n",
       "      <td>2010.4</td>\n",
       "    </tr>\n",
       "    <tr>\n",
       "      <td>Tools electric</td>\n",
       "      <td>2005.6</td>\n",
       "    </tr>\n",
       "    <tr>\n",
       "      <td>Tools non-electric</td>\n",
       "      <td>2001.8</td>\n",
       "    </tr>\n",
       "    <tr>\n",
       "      <td>Toys electric</td>\n",
       "      <td>2007.6</td>\n",
       "    </tr>\n",
       "    <tr>\n",
       "      <td>Toys non-electric</td>\n",
       "      <td>1994.9</td>\n",
       "    </tr>\n",
       "  </tbody>\n",
       "</table>\n",
       "</div>"
      ],
      "text/plain": [
       "                                   my_build_year\n",
       "Category                                        \n",
       "Bicycles                                  2005.9\n",
       "Category                                     NaN\n",
       "Computers/phones                          2010.4\n",
       "Display and sound equipment               2001.3\n",
       "Furniture                                 1993.1\n",
       "Household appliances electric             2006.6\n",
       "Household appliances non-electric         1994.0\n",
       "Other                                     1999.2\n",
       "Textile                                   2010.4\n",
       "Tools electric                            2005.6\n",
       "Tools non-electric                        2001.8\n",
       "Toys electric                             2007.6\n",
       "Toys non-electric                         1994.9"
      ]
     },
     "execution_count": 17,
     "metadata": {},
     "output_type": "execute_result"
    }
   ],
   "source": [
    "# Exploration5 : BUILD YEAR\n",
    "data_set_final_2.dtypes\n",
    "#Build year is an object type. Let's cast it to a float value\n",
    "data_set_final_2.loc[:,\"my_build_year\"]=pd.to_numeric(data_set_final_2[\"Build year (estimated)\"], errors='coerce')\n",
    "#clean the \"my_build_year\" column by removing values out of 1800 - 2019, which represent 1 half of the values\n",
    "data_set_final_2.loc[:,\"my_build_year\"]=[my_year if (my_year>1800 and my_year<2020) else np.nan for my_year in data_set_final_2[\"my_build_year\"]]\n",
    "#let's now explore the mean age of the categories\n",
    "data_repair_success_C_Y=data_set_final_2.groupby(by=[\"Category\"]).mean(numeric_only=True)\n",
    "data_repair_success_C_Y.loc[:,\"my_build_year\"]=[my_year if np.isnan(my_year)==True else round(my_year,1) for my_year in data_repair_success_C_Y[\"my_build_year\"]]\n",
    "data_repair_success_C_Y"
   ]
  },
  {
   "cell_type": "code",
   "execution_count": 18,
   "metadata": {},
   "outputs": [
    {
     "data": {
      "text/html": [
       "<div>\n",
       "<style scoped>\n",
       "    .dataframe tbody tr th:only-of-type {\n",
       "        vertical-align: middle;\n",
       "    }\n",
       "\n",
       "    .dataframe tbody tr th {\n",
       "        vertical-align: top;\n",
       "    }\n",
       "\n",
       "    .dataframe thead th {\n",
       "        text-align: right;\n",
       "    }\n",
       "</style>\n",
       "<table border=\"1\" class=\"dataframe\">\n",
       "  <thead>\n",
       "    <tr style=\"text-align: right;\">\n",
       "      <th></th>\n",
       "      <th>half</th>\n",
       "      <th>no</th>\n",
       "      <th>yes</th>\n",
       "      <th>total</th>\n",
       "      <th>percent repaired</th>\n",
       "      <th>my_build_year</th>\n",
       "    </tr>\n",
       "    <tr>\n",
       "      <th>Category</th>\n",
       "      <th></th>\n",
       "      <th></th>\n",
       "      <th></th>\n",
       "      <th></th>\n",
       "      <th></th>\n",
       "      <th></th>\n",
       "    </tr>\n",
       "  </thead>\n",
       "  <tbody>\n",
       "    <tr>\n",
       "      <td>Textile</td>\n",
       "      <td>61.0</td>\n",
       "      <td>75.0</td>\n",
       "      <td>2549.0</td>\n",
       "      <td>2686.0</td>\n",
       "      <td>94.899479</td>\n",
       "      <td>2010.4</td>\n",
       "    </tr>\n",
       "    <tr>\n",
       "      <td>Tools non-electric</td>\n",
       "      <td>14.0</td>\n",
       "      <td>16.0</td>\n",
       "      <td>299.0</td>\n",
       "      <td>329.0</td>\n",
       "      <td>90.881459</td>\n",
       "      <td>2001.8</td>\n",
       "    </tr>\n",
       "    <tr>\n",
       "      <td>Bicycles</td>\n",
       "      <td>65.0</td>\n",
       "      <td>107.0</td>\n",
       "      <td>1124.0</td>\n",
       "      <td>1296.0</td>\n",
       "      <td>86.728395</td>\n",
       "      <td>2005.9</td>\n",
       "    </tr>\n",
       "    <tr>\n",
       "      <td>Household appliances non-electric</td>\n",
       "      <td>52.0</td>\n",
       "      <td>79.0</td>\n",
       "      <td>401.0</td>\n",
       "      <td>532.0</td>\n",
       "      <td>75.375940</td>\n",
       "      <td>1994.0</td>\n",
       "    </tr>\n",
       "    <tr>\n",
       "      <td>Furniture</td>\n",
       "      <td>30.0</td>\n",
       "      <td>21.0</td>\n",
       "      <td>146.0</td>\n",
       "      <td>197.0</td>\n",
       "      <td>74.111675</td>\n",
       "      <td>1993.1</td>\n",
       "    </tr>\n",
       "    <tr>\n",
       "      <td>Other</td>\n",
       "      <td>183.0</td>\n",
       "      <td>332.0</td>\n",
       "      <td>1227.0</td>\n",
       "      <td>1742.0</td>\n",
       "      <td>70.436280</td>\n",
       "      <td>1999.2</td>\n",
       "    </tr>\n",
       "    <tr>\n",
       "      <td>Toys non-electric</td>\n",
       "      <td>12.0</td>\n",
       "      <td>24.0</td>\n",
       "      <td>68.0</td>\n",
       "      <td>104.0</td>\n",
       "      <td>65.384615</td>\n",
       "      <td>1994.9</td>\n",
       "    </tr>\n",
       "    <tr>\n",
       "      <td>Household appliances electric</td>\n",
       "      <td>928.0</td>\n",
       "      <td>2090.0</td>\n",
       "      <td>4105.0</td>\n",
       "      <td>7123.0</td>\n",
       "      <td>57.630212</td>\n",
       "      <td>2006.6</td>\n",
       "    </tr>\n",
       "    <tr>\n",
       "      <td>Toys electric</td>\n",
       "      <td>33.0</td>\n",
       "      <td>73.0</td>\n",
       "      <td>129.0</td>\n",
       "      <td>235.0</td>\n",
       "      <td>54.893617</td>\n",
       "      <td>2007.6</td>\n",
       "    </tr>\n",
       "    <tr>\n",
       "      <td>Tools electric</td>\n",
       "      <td>123.0</td>\n",
       "      <td>288.0</td>\n",
       "      <td>484.0</td>\n",
       "      <td>895.0</td>\n",
       "      <td>54.078212</td>\n",
       "      <td>2005.6</td>\n",
       "    </tr>\n",
       "    <tr>\n",
       "      <td>Computers/phones</td>\n",
       "      <td>352.0</td>\n",
       "      <td>353.0</td>\n",
       "      <td>602.0</td>\n",
       "      <td>1307.0</td>\n",
       "      <td>46.059679</td>\n",
       "      <td>2010.4</td>\n",
       "    </tr>\n",
       "    <tr>\n",
       "      <td>Display and sound equipment</td>\n",
       "      <td>499.0</td>\n",
       "      <td>908.0</td>\n",
       "      <td>1193.0</td>\n",
       "      <td>2600.0</td>\n",
       "      <td>45.884615</td>\n",
       "      <td>2001.3</td>\n",
       "    </tr>\n",
       "  </tbody>\n",
       "</table>\n",
       "</div>"
      ],
      "text/plain": [
       "                                    half      no     yes   total  \\\n",
       "Category                                                           \n",
       "Textile                             61.0    75.0  2549.0  2686.0   \n",
       "Tools non-electric                  14.0    16.0   299.0   329.0   \n",
       "Bicycles                            65.0   107.0  1124.0  1296.0   \n",
       "Household appliances non-electric   52.0    79.0   401.0   532.0   \n",
       "Furniture                           30.0    21.0   146.0   197.0   \n",
       "Other                              183.0   332.0  1227.0  1742.0   \n",
       "Toys non-electric                   12.0    24.0    68.0   104.0   \n",
       "Household appliances electric      928.0  2090.0  4105.0  7123.0   \n",
       "Toys electric                       33.0    73.0   129.0   235.0   \n",
       "Tools electric                     123.0   288.0   484.0   895.0   \n",
       "Computers/phones                   352.0   353.0   602.0  1307.0   \n",
       "Display and sound equipment        499.0   908.0  1193.0  2600.0   \n",
       "\n",
       "                                   percent repaired  my_build_year  \n",
       "Category                                                            \n",
       "Textile                                   94.899479         2010.4  \n",
       "Tools non-electric                        90.881459         2001.8  \n",
       "Bicycles                                  86.728395         2005.9  \n",
       "Household appliances non-electric         75.375940         1994.0  \n",
       "Furniture                                 74.111675         1993.1  \n",
       "Other                                     70.436280         1999.2  \n",
       "Toys non-electric                         65.384615         1994.9  \n",
       "Household appliances electric             57.630212         2006.6  \n",
       "Toys electric                             54.893617         2007.6  \n",
       "Tools electric                            54.078212         2005.6  \n",
       "Computers/phones                          46.059679         2010.4  \n",
       "Display and sound equipment               45.884615         2001.3  "
      ]
     },
     "execution_count": 18,
     "metadata": {},
     "output_type": "execute_result"
    }
   ],
   "source": [
    "#let's group the 2 databases together into one\n",
    "data_repair_success_C_final=pd.merge(data_repair_success_C,data_repair_success_C_Y, how=\"left\", on=\"Category\")\n",
    "#we remove the useless last line\n",
    "data_repair_success_C_final=data_repair_success_C_final.drop(['Category'])\n",
    "data_repair_success_C_final"
   ]
  },
  {
   "cell_type": "code",
   "execution_count": 19,
   "metadata": {},
   "outputs": [
    {
     "data": {
      "text/html": [
       "<div>\n",
       "<style scoped>\n",
       "    .dataframe tbody tr th:only-of-type {\n",
       "        vertical-align: middle;\n",
       "    }\n",
       "\n",
       "    .dataframe tbody tr th {\n",
       "        vertical-align: top;\n",
       "    }\n",
       "\n",
       "    .dataframe thead th {\n",
       "        text-align: right;\n",
       "    }\n",
       "</style>\n",
       "<table border=\"1\" class=\"dataframe\">\n",
       "  <thead>\n",
       "    <tr style=\"text-align: right;\">\n",
       "      <th></th>\n",
       "      <th>half</th>\n",
       "      <th>no</th>\n",
       "      <th>yes</th>\n",
       "      <th>total</th>\n",
       "      <th>percent repaired</th>\n",
       "      <th>my_build_year</th>\n",
       "      <th>electric</th>\n",
       "    </tr>\n",
       "    <tr>\n",
       "      <th>Category</th>\n",
       "      <th></th>\n",
       "      <th></th>\n",
       "      <th></th>\n",
       "      <th></th>\n",
       "      <th></th>\n",
       "      <th></th>\n",
       "      <th></th>\n",
       "    </tr>\n",
       "  </thead>\n",
       "  <tbody>\n",
       "    <tr>\n",
       "      <td>Bicycles</td>\n",
       "      <td>65.0</td>\n",
       "      <td>107.0</td>\n",
       "      <td>1124.0</td>\n",
       "      <td>1296.0</td>\n",
       "      <td>86.728395</td>\n",
       "      <td>2005.9</td>\n",
       "      <td>NO</td>\n",
       "    </tr>\n",
       "    <tr>\n",
       "      <td>Computers/phones</td>\n",
       "      <td>352.0</td>\n",
       "      <td>353.0</td>\n",
       "      <td>602.0</td>\n",
       "      <td>1307.0</td>\n",
       "      <td>46.059679</td>\n",
       "      <td>2010.4</td>\n",
       "      <td>YES</td>\n",
       "    </tr>\n",
       "    <tr>\n",
       "      <td>Display and sound equipment</td>\n",
       "      <td>499.0</td>\n",
       "      <td>908.0</td>\n",
       "      <td>1193.0</td>\n",
       "      <td>2600.0</td>\n",
       "      <td>45.884615</td>\n",
       "      <td>2001.3</td>\n",
       "      <td>YES</td>\n",
       "    </tr>\n",
       "    <tr>\n",
       "      <td>Furniture</td>\n",
       "      <td>30.0</td>\n",
       "      <td>21.0</td>\n",
       "      <td>146.0</td>\n",
       "      <td>197.0</td>\n",
       "      <td>74.111675</td>\n",
       "      <td>1993.1</td>\n",
       "      <td>NO</td>\n",
       "    </tr>\n",
       "    <tr>\n",
       "      <td>Household appliances electric</td>\n",
       "      <td>928.0</td>\n",
       "      <td>2090.0</td>\n",
       "      <td>4105.0</td>\n",
       "      <td>7123.0</td>\n",
       "      <td>57.630212</td>\n",
       "      <td>2006.6</td>\n",
       "      <td>YES</td>\n",
       "    </tr>\n",
       "    <tr>\n",
       "      <td>Household appliances non-electric</td>\n",
       "      <td>52.0</td>\n",
       "      <td>79.0</td>\n",
       "      <td>401.0</td>\n",
       "      <td>532.0</td>\n",
       "      <td>75.375940</td>\n",
       "      <td>1994.0</td>\n",
       "      <td>NO</td>\n",
       "    </tr>\n",
       "    <tr>\n",
       "      <td>Other</td>\n",
       "      <td>183.0</td>\n",
       "      <td>332.0</td>\n",
       "      <td>1227.0</td>\n",
       "      <td>1742.0</td>\n",
       "      <td>70.436280</td>\n",
       "      <td>1999.2</td>\n",
       "      <td>NO</td>\n",
       "    </tr>\n",
       "    <tr>\n",
       "      <td>Textile</td>\n",
       "      <td>61.0</td>\n",
       "      <td>75.0</td>\n",
       "      <td>2549.0</td>\n",
       "      <td>2686.0</td>\n",
       "      <td>94.899479</td>\n",
       "      <td>2010.4</td>\n",
       "      <td>NO</td>\n",
       "    </tr>\n",
       "    <tr>\n",
       "      <td>Tools electric</td>\n",
       "      <td>123.0</td>\n",
       "      <td>288.0</td>\n",
       "      <td>484.0</td>\n",
       "      <td>895.0</td>\n",
       "      <td>54.078212</td>\n",
       "      <td>2005.6</td>\n",
       "      <td>YES</td>\n",
       "    </tr>\n",
       "    <tr>\n",
       "      <td>Tools non-electric</td>\n",
       "      <td>14.0</td>\n",
       "      <td>16.0</td>\n",
       "      <td>299.0</td>\n",
       "      <td>329.0</td>\n",
       "      <td>90.881459</td>\n",
       "      <td>2001.8</td>\n",
       "      <td>NO</td>\n",
       "    </tr>\n",
       "    <tr>\n",
       "      <td>Toys electric</td>\n",
       "      <td>33.0</td>\n",
       "      <td>73.0</td>\n",
       "      <td>129.0</td>\n",
       "      <td>235.0</td>\n",
       "      <td>54.893617</td>\n",
       "      <td>2007.6</td>\n",
       "      <td>YES</td>\n",
       "    </tr>\n",
       "    <tr>\n",
       "      <td>Toys non-electric</td>\n",
       "      <td>12.0</td>\n",
       "      <td>24.0</td>\n",
       "      <td>68.0</td>\n",
       "      <td>104.0</td>\n",
       "      <td>65.384615</td>\n",
       "      <td>1994.9</td>\n",
       "      <td>NO</td>\n",
       "    </tr>\n",
       "  </tbody>\n",
       "</table>\n",
       "</div>"
      ],
      "text/plain": [
       "                                    half      no     yes   total  \\\n",
       "Category                                                           \n",
       "Bicycles                            65.0   107.0  1124.0  1296.0   \n",
       "Computers/phones                   352.0   353.0   602.0  1307.0   \n",
       "Display and sound equipment        499.0   908.0  1193.0  2600.0   \n",
       "Furniture                           30.0    21.0   146.0   197.0   \n",
       "Household appliances electric      928.0  2090.0  4105.0  7123.0   \n",
       "Household appliances non-electric   52.0    79.0   401.0   532.0   \n",
       "Other                              183.0   332.0  1227.0  1742.0   \n",
       "Textile                             61.0    75.0  2549.0  2686.0   \n",
       "Tools electric                     123.0   288.0   484.0   895.0   \n",
       "Tools non-electric                  14.0    16.0   299.0   329.0   \n",
       "Toys electric                       33.0    73.0   129.0   235.0   \n",
       "Toys non-electric                   12.0    24.0    68.0   104.0   \n",
       "\n",
       "                                   percent repaired  my_build_year electric  \n",
       "Category                                                                     \n",
       "Bicycles                                  86.728395         2005.9       NO  \n",
       "Computers/phones                          46.059679         2010.4      YES  \n",
       "Display and sound equipment               45.884615         2001.3      YES  \n",
       "Furniture                                 74.111675         1993.1       NO  \n",
       "Household appliances electric             57.630212         2006.6      YES  \n",
       "Household appliances non-electric         75.375940         1994.0       NO  \n",
       "Other                                     70.436280         1999.2       NO  \n",
       "Textile                                   94.899479         2010.4       NO  \n",
       "Tools electric                            54.078212         2005.6      YES  \n",
       "Tools non-electric                        90.881459         2001.8       NO  \n",
       "Toys electric                             54.893617         2007.6      YES  \n",
       "Toys non-electric                         65.384615         1994.9       NO  "
      ]
     },
     "execution_count": 19,
     "metadata": {},
     "output_type": "execute_result"
    }
   ],
   "source": [
    "#let's improve the table with more features\n",
    "# electric of not electric\n",
    "data_repair_success_C_final.loc[:,\"electric\"]=[\"YES\" if (\" electric\" in my_cat)==True else \"NO\" for my_cat in data_repair_success_C_final.index ]\n",
    "data_repair_success_C_final.loc[data_repair_success_C_final.tail(2).index,\"electric\"]=\"YES\"\n",
    "data_repair_success_C_final=data_repair_success_C_final.sort_index(inplace=False)\n",
    "data_repair_success_C_final"
   ]
  },
  {
   "cell_type": "code",
   "execution_count": 20,
   "metadata": {
    "scrolled": true
   },
   "outputs": [
    {
     "data": {
      "text/plain": [
       "<function matplotlib.pyplot.show(*args, **kw)>"
      ]
     },
     "execution_count": 20,
     "metadata": {},
     "output_type": "execute_result"
    },
    {
     "data": {
      "image/png": "[encoded data removed]",
      "text/plain": [
       "<Figure size 432x288 with 1 Axes>"
      ]
     },
     "metadata": {
      "needs_background": "light"
     },
     "output_type": "display_data"
    }
   ],
   "source": [
    "#let's plot everything\n",
    "\n",
    "plt.scatter(data_repair_success_C_final[\"my_build_year\"], data_repair_success_C_final[\"percent repaired\"])\n",
    "plt.xlabel(\"build year of the good\")\n",
    "plt.ylabel(\"success rate of repair (%)\")\n",
    "plt.xlim(1990, 2015)\n",
    "plt.show"
   ]
  },
  {
   "cell_type": "code",
   "execution_count": null,
   "metadata": {},
   "outputs": [],
   "source": []
  }
 ],
 "metadata": {
  "kernelspec": {
   "display_name": "Python 3",
   "language": "python",
   "name": "python3"
  },
  "language_info": {
   "codemirror_mode": {
    "name": "ipython",
    "version": 3
   },
   "file_extension": ".py",
   "mimetype": "text/x-python",
   "name": "python",
   "nbconvert_exporter": "python",
   "pygments_lexer": "ipython3",
   "version": "3.6.9"
  }
 },
 "nbformat": 4,
 "nbformat_minor": 2
}
